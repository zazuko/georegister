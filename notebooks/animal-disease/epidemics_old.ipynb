{
 "cells": [
  {
   "cell_type": "markdown",
   "id": "81108783",
   "metadata": {},
   "source": [
    "<div class=\"notebook-buttons\" style=\"display:flex; padding-top: 5rem;padding-bottom: 2.5rem;line-height: 2.15;\">\n",
    "    <a href=\"https://colab.research.google.com/github/zazuko/notebooks/blob/master/notebooks/animal-disease/epidemics.ipynb\">\n",
    "        <div id=\"colab-link\" style=\"display: flex;padding-right: 3.5rem;padding-bottom: 0.625rem;border-bottom: 1px solid #ececed; align-items: center;\">\n",
    "            <img class=\"call-to-action-img\" src=\"img//colab.svg\" width=\"30\" height=\"30\" style=\"margin-right: 10px;margin-top: auto;margin-bottom: auto;\">\n",
    "            <div class=\"call-to-action-txt\">Run in Google Colab</div>\n",
    "        </div>\n",
    "    </a>\n",
    "    <a href=\"https://raw.githubusercontent.com/zazuko/notebooks/master/notebooks/animal-disease/epidemics.ipynb\" download>\n",
    "        <div id=\"download-link\" style=\"display: flex;padding-right: 3.5rem;padding-bottom: 0.625rem;border-bottom: 1px solid #ececed; height: auto;align-items: center;\">\n",
    "            <img class=\"call-to-action-img\" src=\"img//download.svg\" width=\"22\" height=\"30\" style=\"margin-right: 10px;margin-top: auto;margin-bottom: auto;\">\n",
    "            <div class=\"call-to-action-txt\">Download Notebook</div>\n",
    "        </div>\n",
    "    </a>\n",
    "    <a href=\"https://github.com/zazuko/notebooks/blob/master/notebooks/animal-disease/epidemics.ipynb\">\n",
    "        <div id=\"github-link\" style=\"display: flex;padding-right: 3.5rem;padding-bottom: 0.625rem;border-bottom: 1px solid #ececed; height: auto;align-items: center;\">\n",
    "            <img class=\"call-to-action-img\" src=\"img//github.svg\" width=\"25\" height=\"30\" style=\"margin-right: 10px;margin-top: auto;margin-bottom: auto;\">\n",
    "            <div class=\"call-to-action-txt\">View on GitHub</div>\n",
    "        </div>\n",
    "    </a>\n",
    "</div>\n",
    "\n",
    "# Animal epidemics in Switzerland\n",
    "\n",
    "FOAG, Federal Office for Agriculture, collects data on the animal diseases in Switzerland. This data is published as [Linked Data](https://en.wikipedia.org/wiki/Linked_data). \n",
    "\n",
    "In this tutorial, we will show **how to work with Linked Data.** Mainly, we will see how to work with data on animal epidemics.   \n",
    "We will look into how to query, process, and visualize it.   "
   ]
  },
  {
   "cell_type": "markdown",
   "id": "003e13bf",
   "metadata": {},
   "source": [
    "## Ideas\n",
    "\n",
    "* Animal hierarchy\n",
    "* Disease hierarchy\n",
    "* Number of reports per gde, over time (https://python-visualization.github.io/folium/plugins.html#folium.plugins.TimeSliderChoropleth)\n",
    "\n",
    "* Serious outbreaks: find reports where stock == killed"
   ]
  },
  {
   "cell_type": "code",
   "execution_count": null,
   "id": "dc0815c3",
   "metadata": {},
   "outputs": [],
   "source": [
    "import json\n",
    "\n",
    "import itertools\n",
    "import folium\n",
    "from folium.plugins import TimeSliderChoropleth\n",
    "import pandas as pd\n",
    "import plotly.express as px\n",
    "import plotly.graph_objects as go\n",
    "from plotly.subplots import make_subplots\n",
    "import datetime\n",
    "import matplotlib.cm\n",
    "import matplotlib as mpl\n",
    "import mapclassify\n",
    "\n",
    "from dateutil.relativedelta import relativedelta\n",
    "\n",
    "from graphly.api_client import SparqlClient\n",
    "\n",
    "import networkx as nx\n",
    "\n",
    "from bokeh.io import show, output_notebook\n",
    "from bokeh.plotting import from_networkx, ColumnDataSource\n",
    "\n",
    "from bokeh.models import (Circle, EdgesAndLinkedNodes, HoverTool,\n",
    "                          MultiLine, NodesAndLinkedEdges, Plot, TapTool,CustomJS, LabelSet)\n",
    "from bokeh.palettes import Paired\n",
    "\n",
    "import pandas as pd"
   ]
  },
  {
   "cell_type": "code",
   "execution_count": null,
   "id": "985890ce",
   "metadata": {},
   "outputs": [],
   "source": [
    "sparql = SparqlClient(\"https://int.lindas.admin.ch/query\")\n",
    "geosparql = SparqlClient(\"https://ld.geo.admin.ch/query\")\n",
    "\n",
    "sparql.add_prefixes({\n",
    "    \"schema\": \"<http://schema.org/>\",\n",
    "    \"cube\": \"<https://cube.link/>\",\n",
    "    \"admin\": \"<https://schema.ld.admin.ch/>\",\n",
    "    \"skos\": \"<http://www.w3.org/2004/02/skos/core#>\",\n",
    "    \"disease\": \"<https://environment.ld.admin.ch/foen/animal-pest/>\"   \n",
    "})\n",
    "\n",
    "geosparql.add_prefixes({\n",
    "    \"dct\": \"<http://purl.org/dc/terms/>\",\n",
    "    \"geonames\": \"<http://www.geonames.org/ontology#>\",\n",
    "    \"schema\": \"<http://schema.org/>\",\n",
    "    \"geosparql\": \"<http://www.opengis.net/ont/geosparql#>\",\n",
    "})"
   ]
  },
  {
   "cell_type": "markdown",
   "id": "84f11bdf",
   "metadata": {},
   "source": [
    "### Animals hierarchy"
   ]
  },
  {
   "cell_type": "code",
   "execution_count": null,
   "id": "f0421e71",
   "metadata": {},
   "outputs": [],
   "source": [
    "query = \"\"\"\n",
    "SELECT DISTINCT ?specie ?group\n",
    "WHERE {\n",
    "  ?s disease:animal-specie ?specieIRI.\n",
    "  ?specieIRI schema:name ?specie.\n",
    "  \n",
    "  ?specieIRI skos:broader/schema:name ?group.\n",
    "  \n",
    "  FILTER (LANG(?specie) = \"de\")\n",
    "  FILTER (LANG(?group) = \"de\")\n",
    "} \n",
    "ORDER BY ?group\n",
    "\"\"\"\n",
    "\n",
    "df = sparql.send_query(query)\n",
    "df.head()"
   ]
  },
  {
   "cell_type": "markdown",
   "id": "1d7b623a",
   "metadata": {},
   "source": [
    "## Disease hierarchy"
   ]
  },
  {
   "cell_type": "code",
   "execution_count": null,
   "id": "32c16046",
   "metadata": {},
   "outputs": [],
   "source": [
    "query = \"\"\"\n",
    "SELECT DISTINCT ?epidemics ?group\n",
    "WHERE {\n",
    "  ?s disease:epidemics ?epidemicsIRI.\n",
    "  ?epidemicsIRI schema:name ?epidemics.\n",
    "  \n",
    "  ?epidemicsIRI skos:broader/schema:name ?group.\n",
    "\n",
    "  FILTER (LANG(?epidemics) = \"de\")\n",
    "  FILTER (LANG(?group) = \"de\")\n",
    "}\n",
    "ORDER BY ?group\n",
    "\"\"\"\n",
    "\n",
    "df = sparql.send_query(query)\n",
    "df.head()"
   ]
  },
  {
   "cell_type": "markdown",
   "id": "998596de",
   "metadata": {},
   "source": [
    "## Can we link disease to animal type?"
   ]
  },
  {
   "cell_type": "code",
   "execution_count": null,
   "id": "32867502",
   "metadata": {},
   "outputs": [],
   "source": [
    "query = \"\"\"\n",
    "SELECT DISTINCT ?epidemics ?specie ?group\n",
    "WHERE {\n",
    "  <https://environment.ld.admin.ch/foen/animal-pest/observation/> cube:observation ?obs .\n",
    "  ?obs disease:epidemics/schema:name ?epidemics;\n",
    "       disease:animal-specie ?specieIRI.\n",
    "       \n",
    "  ?specieIRI schema:name ?specie.\n",
    "  ?specieIRI skos:broader/schema:name ?group.\n",
    "  \n",
    "  FILTER (LANG(?epidemics) = \"de\")\n",
    "  FILTER (LANG(?specie) = \"de\")\n",
    "  FILTER (LANG(?group) = \"de\")\n",
    "} \n",
    "\n",
    "ORDER BY ?specie\n",
    "\"\"\"\n",
    "\n",
    "df = sparql.send_query(query)\n",
    "df.head()"
   ]
  },
  {
   "cell_type": "code",
   "execution_count": null,
   "id": "b7616894",
   "metadata": {},
   "outputs": [],
   "source": [
    "g = nx.from_pandas_edgelist(df, source='epidemics', target='specie')\n",
    "groups = {key: \"epidemics\" for key in df.epidemics} | {key: \"specie\" for key in df.specie}\n",
    "\n",
    "nx.set_node_attributes(g, groups, name=\"group\")\n",
    "\n",
    "colormap = {\"epidemics\": Paired[4][0], \"specie\": Paired[4][2]}\n",
    "colors_fill = {k: colormap[v] for k, v in groups.items()}\n",
    "\n",
    "colormap = {\"epidemics\": Paired[4][1], \"specie\": Paired[4][3]}\n",
    "colors_hover = {k: colormap[v] for k, v in groups.items()}\n",
    "\n",
    "nx.set_node_attributes(g, colors_fill, name=\"fill_color\")\n",
    "nx.set_node_attributes(g, colors_hover, name=\"hover_color\")\n",
    "\n",
    "animals = df.specie.unique()\n",
    "epidemics = df.epidemics.unique()"
   ]
  },
  {
   "cell_type": "code",
   "execution_count": null,
   "id": "39d97f0c",
   "metadata": {},
   "outputs": [],
   "source": [
    "# Loayouts https://networkx.org/documentation/stable/reference/generated/networkx.drawing.layout.spring_layout.html\n",
    "plot = Plot(plot_width = 1000, plot_height=1000)\n",
    "plot.title.text = 'Bokeh Plot'\n",
    "\n",
    "graph_renderer = from_networkx(g, nx.drawing.layout.bipartite_layout, nodes = animals)\n",
    "\n",
    "# manipulating nodes\n",
    "graph_renderer.node_renderer.glyph = Circle(size = 15, fill_color = \"fill_color\")\n",
    "graph_renderer.node_renderer.nonselection_glyph = Circle(size = 15, fill_color = \"fill_color\")\n",
    "graph_renderer.node_renderer.selection_glyph = Circle(size = 15, fill_color = \"hover_color\")\n",
    "graph_renderer.node_renderer.hover_glyph = Circle(size = 15, fill_color = \"hover_color\")\n",
    "graph_renderer.node_renderer.data_source.data['group'] = [groups[g] for g in graph_renderer.node_renderer.data_source.data[\"index\"]]\n",
    "\n",
    "# manipulating edges\n",
    "graph_renderer.edge_renderer.glyph = MultiLine(line_color = '#CCCCCC', line_alpha = \n",
    " .5, line_width = 1)\n",
    "graph_renderer.edge_renderer.selection_glyph = MultiLine(line_color = Paired[7][-1], line_width = 2)\n",
    "graph_renderer.edge_renderer.hover_glyph = MultiLine(line_color = Paired[7][-1], line_width = 2)\n",
    "\n",
    "\n",
    "graph_renderer.selection_policy = NodesAndLinkedEdges()\n",
    "graph_renderer.inspection_policy = NodesAndLinkedEdges()\n",
    "\n",
    "plot.renderers.append(graph_renderer)\n",
    "\n",
    "code = '''\n",
    "    if (cb_data.index.indices.length > 0) {\n",
    "        const index = cb_data.index.indices[0];\n",
    "\n",
    "        if (source.data.group[index] === \"specie\") {\n",
    "            hover.tooltips = [[\"Animal\", \"@index\"]];  \n",
    "        }\n",
    "        else {\n",
    "            hover.tooltips = [[\"Disease\", \"@index\"]];\n",
    "        }                                     \n",
    "    }\n",
    "'''\n",
    "\n",
    "hover = HoverTool(\n",
    "    renderers=[graph_renderer.node_renderer]\n",
    ")\n",
    "hover.callback = CustomJS(\n",
    "    args = dict(source = graph_renderer.node_renderer.data_source, hover = hover),\n",
    "    code = code\n",
    ")\n",
    "\n",
    "pos = {k: v for k, v in graph_renderer.layout_provider.graph_layout.items() if g.nodes[k][\"group\"] == \"specie\"}\n",
    "names = list(pos.keys())\n",
    "x, y = map(list, zip(*pos.values()))\n",
    "\n",
    "source = ColumnDataSource({'x': x, 'y': y, 'name': names})\n",
    "labels = LabelSet(x_offset=15, y_offset=-6, x='x', y='y', text='name', source=source, background_fill_color='white', text_font_size='10px', background_fill_alpha=.7)\n",
    "plot.renderers.append(labels)\n",
    "\n",
    "plot.add_tools(hover, TapTool())\n",
    "\n",
    "output_notebook()\n",
    "show(plot)"
   ]
  },
  {
   "cell_type": "markdown",
   "id": "a8672d8b",
   "metadata": {},
   "source": [
    "### Diseases\n",
    "All reports. Run in browser: https://s.zazuko.com/24fSKE"
   ]
  },
  {
   "cell_type": "code",
   "execution_count": null,
   "id": "148c4591",
   "metadata": {},
   "outputs": [],
   "source": [
    "query = \"\"\"\n",
    "SELECT ?diagnosis ?gde ?specie ?stock ?sick ?infected ?killed ?deceased ?epidemics ?death_cause\n",
    "WHERE {\n",
    "  <https://environment.ld.admin.ch/foen/animal-pest/observation/> cube:observation ?obs .\n",
    "  ?obs disease:epidemics/schema:name ?epidemics;\n",
    "       disease:diagnosis-date ?diagnosis;\n",
    "       disease:animals-stock ?stock;\n",
    "       disease:animals-sick ?sick;\n",
    "       disease:animals-infected ?infected;\n",
    "       disease:animals-killed ?killed;\n",
    "       disease:animals-deceased ?deceased;\n",
    "       disease:internet-publication ?date;\n",
    "       disease:death-cause/schema:name ?death_cause;\n",
    "       disease:animal-specie/schema:name ?specie;\n",
    "       schema:containedInPlace/schema:name ?gde .\n",
    "  \n",
    "  FILTER (LANG(?epidemics) = \"de\")\n",
    "  FILTER (LANG(?death_cause) = \"de\")\n",
    "  FILTER (LANG(?specie) = \"de\")\n",
    "} \n",
    "ORDER BY DESC(?diagnosis) ?gde\n",
    "\"\"\"\n",
    "df = sparql.send_query(query)\n",
    "df.head()"
   ]
  },
  {
   "cell_type": "markdown",
   "id": "09ce4eb9",
   "metadata": {},
   "source": [
    "## Reports\n",
    "\n",
    "Number of reports per day, specie, commune, and epidemics"
   ]
  },
  {
   "cell_type": "code",
   "execution_count": null,
   "id": "9b256df5",
   "metadata": {},
   "outputs": [],
   "source": [
    "query = \"\"\"\n",
    "SELECT ?diagnosis ?municipality_id ?gde ?specie ?epidemics\n",
    "WHERE {\n",
    "  <https://environment.ld.admin.ch/foen/animal-pest/observation/> cube:observation ?obs .\n",
    "  ?obs disease:epidemics/schema:name ?epidemics;\n",
    "       disease:diagnosis-date ?diagnosis;\n",
    "       disease:internet-publication ?date;\n",
    "       disease:animal-specie/schema:name ?specie;\n",
    "       schema:containedInPlace ?municipality_id.\n",
    "       \n",
    "  ?municipality_id schema:name ?gde .\n",
    "  \n",
    "  FILTER (LANG(?epidemics) = \"de\")\n",
    "  FILTER (LANG(?specie) = \"de\")\n",
    "} \n",
    "ORDER BY DESC(?diagnosis) ?gde\n",
    "\"\"\"\n",
    "df = sparql.send_query(query)"
   ]
  },
  {
   "cell_type": "code",
   "execution_count": null,
   "id": "a286465c",
   "metadata": {},
   "outputs": [],
   "source": [
    "df.loc[:,\"year\"] = df.diagnosis.apply(lambda x: x.year).astype(int)\n",
    "df.loc[:,\"month\"] = df.diagnosis.apply(lambda x: x.month)\n",
    "df.loc[:,\"week\"] = df.diagnosis.apply(lambda x: x.isocalendar()[1])\n",
    "df[\"municipality_id\"] = df.municipality_id.str.split(\"/\").str[-1]\n",
    "\n",
    "weekly = True\n",
    "if weekly:\n",
    "    df[\"diagnosis\"] = df.diagnosis.apply(lambda x: datetime.date(x.year, 1, 1) + relativedelta(weeks=+x.isocalendar()[1]))\n",
    "else:\n",
    "    df['diagnosis'] = df.diagnosis.apply(lambda x: datetime.date(x.year, x.month, 1))\n",
    "\n",
    "df = df[[\"diagnosis\", \"specie\", \"epidemics\", \"municipality_id\"]].groupby(by=[\"diagnosis\", \"specie\", \"epidemics\", \"municipality_id\"]).size().reset_index(name=\"reports\")\n",
    "df.head()"
   ]
  },
  {
   "cell_type": "code",
   "execution_count": null,
   "id": "1fbd26b2",
   "metadata": {},
   "outputs": [],
   "source": [
    "dff = df.copy()\n",
    "dff = dff[[\"diagnosis\", \"specie\", \"epidemics\"]].groupby(by=[\"diagnosis\", \"specie\", \"epidemics\"]).size().reset_index(name=\"reports\")\n",
    "dff = dff.sort_values(by=[\"diagnosis\", \"epidemics\", \"specie\"], ascending=False)\n",
    "dff.sort_values(by=[\"reports\"], ascending=False).reset_index(drop=True)[0:15]"
   ]
  },
  {
   "cell_type": "markdown",
   "metadata": {},
   "source": [
    "## All epidemics for one animal type"
   ]
  },
  {
   "cell_type": "code",
   "execution_count": null,
   "metadata": {},
   "outputs": [],
   "source": [
    "MIN_TOTAL = 30\n",
    "MIN_LOCAL = 5\n",
    "SPECIE = \"Ziege\"\n",
    "\n",
    "subset = dff[dff.specie == SPECIE]\n",
    "diseases = subset[[\"epidemics\", \"reports\"]].groupby([\"epidemics\"]).agg([\"sum\", \"max\"]).reset_index()\n",
    "relevant_diseases = list(diseases[(diseases[\"reports\"][\"sum\"] > MIN_TOTAL) & (diseases[\"reports\"][\"max\"] > MIN_LOCAL)].epidemics)\n",
    "subset = subset[subset.epidemics.isin(relevant_diseases)]\n",
    "\n",
    "# TODO: all dates -> all possible dates\n",
    "all_dates = subset.diagnosis.unique()\n",
    "combinations = list(itertools.product(*[all_dates, subset.epidemics.unique()]))\n",
    "diseases_empty = pd.DataFrame(combinations, columns =['diagnosis', 'epidemics'])\n",
    "subset = pd.merge(diseases_empty, subset, how=\"left\", on=[\"diagnosis\", \"epidemics\"]).fillna(0)\n",
    "\n",
    "fig = go.Figure()\n",
    "for curr_disease in subset.epidemics.unique():\n",
    "    plot_df = subset[subset.epidemics == curr_disease]\n",
    "    labels = [\"<b>{}</b><br>Date: {}<br>Reports: {}\".format(curr_disease, row.diagnosis, int(row.reports)) for row in plot_df[[\"diagnosis\", \"reports\"]].itertuples()]\n",
    "    fig.add_trace(go.Scatter(x=plot_df.diagnosis, y=plot_df.reports, name=curr_disease,\n",
    "                        text=labels,\n",
    "                        hoverinfo='text',\n",
    "                        line_shape='spline'))\n",
    "\n",
    "fig.update_xaxes(rangeslider_visible=True)\n",
    "fig.show()"
   ]
  },
  {
   "cell_type": "markdown",
   "id": "eb36c8da",
   "metadata": {},
   "source": [
    "## Selected epidemics"
   ]
  },
  {
   "cell_type": "code",
   "execution_count": null,
   "id": "42358010",
   "metadata": {},
   "outputs": [],
   "source": [
    "d = dff[dff.epidemics == \"Bovine Virusdiarrhoe / Mucosal Disease\"]\n",
    "fig = px.line(d, x=\"diagnosis\", y=\"reports\")\n",
    "fig.show()"
   ]
  },
  {
   "cell_type": "code",
   "execution_count": null,
   "id": "3d015107",
   "metadata": {},
   "outputs": [],
   "source": [
    "d = dff[dff.epidemics == \"Sauerbrut der Bienen\"]\n",
    "fig = px.bar(d, x=\"diagnosis\", y=\"reports\")\n",
    "fig.update_xaxes(rangeslider_visible=True)\n",
    "fig.show()"
   ]
  },
  {
   "cell_type": "markdown",
   "id": "5b7a85f4",
   "metadata": {},
   "source": [
    "Interesting case: rabies does not appear anymore!\n",
    "\n",
    "Also, check rabies by specie: all cases were coming from one animal type: Fuchs"
   ]
  },
  {
   "cell_type": "code",
   "execution_count": null,
   "id": "73c42940",
   "metadata": {},
   "outputs": [],
   "source": [
    "d = dff[dff.epidemics == \"Tollwut\"]\n",
    "fig = px.bar(d, x=\"diagnosis\", y=\"reports\")\n",
    "fig.show()"
   ]
  },
  {
   "cell_type": "markdown",
   "id": "b0855add",
   "metadata": {},
   "source": [
    "## Biggest epidemics"
   ]
  },
  {
   "cell_type": "code",
   "execution_count": null,
   "id": "55c0f98e",
   "metadata": {},
   "outputs": [],
   "source": [
    "diseases = dff[[\"reports\", \"epidemics\"]].groupby(\"epidemics\").sum().reset_index().sort_values(by=\"reports\", ascending=False).reset_index(drop=True)\n",
    "ROWS=8\n",
    "COLS=2\n",
    "\n",
    "diseases_subset = diseases[0:ROWS*COLS]\n",
    "fig = make_subplots(rows=ROWS, cols=COLS, subplot_titles=diseases_subset[\"epidemics\"])\n",
    "for obs in diseases_subset.itertuples():\n",
    "    \n",
    "    row = obs.Index//COLS + 1\n",
    "    col = obs.Index%COLS + 1\n",
    "    d = dff[dff.epidemics == obs.epidemics]\n",
    "    fig.append_trace(go.Line(x=d[\"diagnosis\"], y=d[\"reports\"], name=obs.epidemics, marker_color=px.colors.qualitative.Dark24[0]), row=row, col=col)\n",
    "    \n",
    "fig.update_layout(height=1200, width=1000, title={\"text\": \"Biggest animal epidemics in Switzerland\", \"x\": 0.5}, showlegend=False)\n",
    "fig.show()"
   ]
  },
  {
   "cell_type": "code",
   "execution_count": null,
   "id": "18385a21",
   "metadata": {},
   "outputs": [],
   "source": [
    "diseases = dff[[\"reports\", \"epidemics\", \"specie\"]].groupby([\"specie\", \"epidemics\"]).sum().reset_index()\n",
    "diseases[\"reports_group\"] = diseases[[\"epidemics\", \"reports\"]].groupby(\"epidemics\").transform(sum)\n",
    "diseases[\"affected_species\"] = diseases[[\"epidemics\", \"reports\"]].groupby(\"epidemics\").transform(len)\n",
    "diseases = diseases[diseases.affected_species > 1]\n",
    "diseases = diseases.sort_values(by=[\"reports_group\", \"reports\"], ascending=False).reset_index(drop=True)\n",
    "diseases[diseases.epidemics != \"Salmonellose\"][0:10]"
   ]
  },
  {
   "cell_type": "markdown",
   "id": "3d2d9c7e",
   "metadata": {},
   "source": [
    "## Multiple species affected by one disease\n",
    "\n",
    "## Disease co-ocurrence: Chlamydienabort\n",
    "https://www.blv.admin.ch/blv/fr/home/tiere/tierseuchen/uebersicht-seuchen/alle-tierseuchen/chlamydienabort-der-schafe-und-ziegen.html"
   ]
  },
  {
   "cell_type": "code",
   "execution_count": null,
   "id": "2bb5d280",
   "metadata": {},
   "outputs": [],
   "source": [
    "# Candidates: Coxiellose, Campylobacteriose, Listeriose, Pseudotuberkulose der Schafe und Ziegen\n",
    "# Interesting :Tollwut\n",
    "# SUPER_ CURIOUS: Maedi-Visna\n",
    "\n",
    "#epidemic = \"Chlamydienabort der Schafe und Ziegen\"\n",
    "epidemic = \"Maedi-Visna\"\n",
    "#epidemic = \"Pseudotuberkulose der Schafe und Ziegen\"\n",
    "relevant_animals = diseases[(diseases.epidemics == epidemic) & (diseases.reports > 20)].specie\n",
    "subset = dff[(dff.epidemics == epidemic) & (dff.specie.isin(relevant_animals))]\n",
    "\n",
    "fig = px.line(subset, x=\"diagnosis\", y=\"reports\", color=\"specie\", range_y=[0, int(max(subset.reports)*1.3)+1], range_x=[min(subset.diagnosis), max(subset.diagnosis)])\n",
    "        \n",
    "fig.update_xaxes(rangeslider_visible=True)\n",
    "fig.show()"
   ]
  },
  {
   "cell_type": "markdown",
   "id": "a7a5308a",
   "metadata": {},
   "source": [
    "### Epidemics over time"
   ]
  },
  {
   "cell_type": "code",
   "execution_count": null,
   "id": "792621da",
   "metadata": {},
   "outputs": [],
   "source": [
    "query = \"\"\"\n",
    "SELECT ?municipality_id ?municipality ?boundary \n",
    "\n",
    "WHERE {\n",
    "  ?muni_iri dct:hasVersion ?version ;\n",
    "            geonames:featureCode geonames:A.ADM3 .\n",
    "  \n",
    "  ?version schema:validUntil \"2020-12-31\"^^<http://www.w3.org/2001/XMLSchema#date>;\n",
    "           schema:name ?municipality;\n",
    "           geosparql:hasGeometry/geosparql:asWKT ?boundary.\n",
    "  \n",
    "  BIND(IRI(REPLACE(STR(?muni_iri), \"https://ld.geo.admin.ch/boundaries/\", \"https://ld.admin.ch/\")) AS ?municipality_id)\n",
    "}\n",
    "\"\"\"\n",
    "communes = geosparql.send_query(query)\n",
    "communes = communes.set_crs(epsg=4326)"
   ]
  },
  {
   "cell_type": "code",
   "execution_count": null,
   "id": "f0f9bcbb",
   "metadata": {},
   "outputs": [],
   "source": [
    "communes[\"municipality_id\"] = communes.municipality_id.str.split(\"/\").str[-1]\n",
    "communes = communes.set_index(\"municipality_id\")\n",
    "communes.head()"
   ]
  },
  {
   "cell_type": "code",
   "execution_count": null,
   "id": "0fcc4f93",
   "metadata": {},
   "outputs": [],
   "source": [
    "sickness = \"Bovine Virusdiarrhoe / Mucosal Disease\"\n",
    "specie = \"Rind\"\n",
    "start = datetime.date(2007, 9, 1)\n",
    "end = datetime.date(2010, 3, 1)\n",
    "WINDOW = 5\n",
    "\n",
    "subset = df[(df.specie == specie) & (df.epidemics == sickness) & (df.diagnosis >= start) & (df.diagnosis <= end)].copy()\n",
    "s = subset[[\"diagnosis\", \"municipality_id\", \"reports\"]].pivot(index=\"diagnosis\", columns=\"municipality_id\", values=\"reports\").sort_index().fillna(0)\n",
    "s = s.rolling(WINDOW).sum().iloc[WINDOW-1:,:]\n",
    "\n",
    "datetime_index = pd.DatetimeIndex(s.index)\n",
    "dt_index_epochs = datetime_index.view(\"int\") // 10**9\n",
    "s.index = dt_index_epochs.astype('U10')"
   ]
  },
  {
   "cell_type": "code",
   "execution_count": null,
   "id": "ee28d61b",
   "metadata": {},
   "outputs": [],
   "source": [
    "bins = [1,2,5,10,25]\n",
    "#classifier = mapclassify.UserDefined(y=s.values[s.values > 0], bins=bins)\n",
    "classifier = mapclassify.NaturalBreaks(y=s.values[s.values > 0])\n",
    "categories = range(len(bins))\n",
    "colormap = {cat: mpl.colors.rgb2hex(mpl.cm.PuRd(i/(len(categories)-1))) for i, cat in enumerate(categories)}\n",
    "\n",
    "styledict = {}\n",
    "timestamps = s.index\n",
    "for commune in communes.index:\n",
    "    styledict[commune] = {str(t): {\"color\": colormap[0], \"opacity\": 1} for t in timestamps}\n",
    "    \n",
    "    if commune in s.columns:\n",
    "        for timestamp in timestamps:\n",
    "            reports = s.loc[timestamp, commune]\n",
    "\n",
    "            #if reports > 0:\n",
    "            reports_classified = classifier(reports)[0]\n",
    "            styledict[commune][str(timestamp)] = {\"color\": colormap[reports_classified], \"opacity\": 1}#\"red\"\n",
    "\n",
    "\n",
    "#bins = list(classifier.bins)\n",
    "communes[\"dummy\"] = 0\n",
    "m = folium.Map(location=[46.83, 8.13], zoom_start=8, tiles=\"cartodbpositron\")\n",
    "\n",
    "g = TimeSliderChoropleth(\n",
    "    communes.to_json(),\n",
    "    styledict=styledict\n",
    ").add_to(m)\n",
    "\n",
    "folium.Choropleth(\n",
    "    geo_data=json.loads(communes.to_json()),\n",
    "    data=communes,\n",
    "    columns=['municipality', 'dummy'],\n",
    "    key_on='feature.id',\n",
    "    fill_color= 'PuRd',\n",
    "    fill_opacity=0.0,\n",
    "    line_opacity=0.0,\n",
    "    bins=[0]+bins,\n",
    "    legend_name=\"Cases of {}\".format(sickness)\n",
    ").add_to(m)\n",
    "\n",
    "folium.LayerControl().add_to(m)\n",
    "m"
   ]
  },
  {
   "cell_type": "markdown",
   "id": "f4c68761",
   "metadata": {},
   "source": [
    "### Deadly epidemics\n",
    "\n",
    "Which epidemics lead to death of all animals?"
   ]
  },
  {
   "cell_type": "code",
   "execution_count": null,
   "id": "e214415f",
   "metadata": {},
   "outputs": [],
   "source": [
    "query = \"\"\"\n",
    "SELECT ?diagnosis ?gde ?specie ?stock_deceased ?epidemics ?death_cause\n",
    "WHERE {\n",
    "  <https://environment.ld.admin.ch/foen/animal-pest/observation/> cube:observation ?obs .\n",
    "  ?obs disease:epidemics/schema:name ?epidemics;\n",
    "       disease:diagnosis-date ?diagnosis;\n",
    "       disease:animals-stock ?stock_deceased;\n",
    "       disease:animals-deceased ?stock_deceased;\n",
    "       disease:internet-publication ?date;\n",
    "       disease:death-cause/schema:name ?death_cause;\n",
    "       disease:animal-specie/schema:name ?specie;\n",
    "       schema:containedInPlace/schema:name ?gde .\n",
    "  \n",
    "  #FILTER (?stock_deceased > 1)\n",
    "  FILTER (LANG(?epidemics) = \"de\")\n",
    "  FILTER (LANG(?death_cause) = \"de\")\n",
    "  FILTER (LANG(?specie) = \"de\")\n",
    "} \n",
    "ORDER BY DESC(?stock_deceased)\n",
    "\"\"\"\n",
    "\n",
    "#df = sparql.send_query(query)\n",
    "#df.head()"
   ]
  },
  {
   "cell_type": "markdown",
   "id": "746020e6",
   "metadata": {},
   "source": [
    "A disease can be higly contagious. It may be hence sefer to kill all animal stock at certain farm, and prevent potential disease spread.\n",
    "\n",
    "Which epidemics forced farmers to kill all their stock?"
   ]
  },
  {
   "cell_type": "code",
   "execution_count": null,
   "id": "9a21b25b",
   "metadata": {},
   "outputs": [],
   "source": [
    "query = \"\"\"\n",
    "SELECT ?diagnosis ?gde ?specie ?sick ?infected ?deceased ?stock_killed ?epidemics ?death_cause\n",
    "WHERE {\n",
    "  <https://environment.ld.admin.ch/foen/animal-pest/observation/> cube:observation ?obs .\n",
    "  ?obs disease:epidemics/schema:name ?epidemics;\n",
    "       disease:diagnosis-date ?diagnosis;\n",
    "       disease:animals-stock ?stock_killed;\n",
    "       disease:animals-sick ?sick;\n",
    "       disease:animals-infected ?infected;\n",
    "       disease:animals-killed ?stock_killed;\n",
    "       disease:animals-deceased ?deceased;\n",
    "       disease:internet-publication ?date;\n",
    "       disease:death-cause/schema:name ?death_cause;\n",
    "       disease:animal-specie/schema:name ?specie;\n",
    "       schema:containedInPlace/schema:name ?gde .\n",
    "  \n",
    "  #FILTER (?stock_killed > 1)\n",
    "  FILTER (LANG(?epidemics) = \"de\")\n",
    "  FILTER (LANG(?death_cause) = \"de\")\n",
    "  FILTER (LANG(?specie) = \"de\")\n",
    "} \n",
    "ORDER BY DESC(?stock_killed)\n",
    "\"\"\"\n",
    "\n",
    "#df = sparql.send_query(query)\n",
    "#df.head()"
   ]
  }
 ],
 "metadata": {
  "interpreter": {
   "hash": "52612798f5eced5fbe3f58e9481faf8401bf1ada0bff399e6095e3d5ee493763"
  },
  "kernelspec": {
   "display_name": "Python 3.9.0 64-bit ('venv': venv)",
   "name": "python3"
  },
  "language_info": {
   "codemirror_mode": {
    "name": "ipython",
    "version": 3
   },
   "file_extension": ".py",
   "mimetype": "text/x-python",
   "name": "python",
   "nbconvert_exporter": "python",
   "pygments_lexer": "ipython3",
   "version": "3.9.0"
  }
 },
 "nbformat": 4,
 "nbformat_minor": 5
}
