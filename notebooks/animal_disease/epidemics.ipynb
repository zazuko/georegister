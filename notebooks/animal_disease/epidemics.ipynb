{
 "cells": [
  {
   "cell_type": "markdown",
   "id": "81108783",
   "metadata": {},
   "source": [
    "<div class=\"notebook-buttons\" style=\"display:flex; padding-top: 5rem;padding-bottom: 2.5rem;line-height: 2.15;\">\n",
    "    <a href=\"https://colab.research.google.com/github/zazuko/notebooks/blob/master/notebooks/animal-disease/epidemics.ipynb\">\n",
    "        <div id=\"colab-link\" style=\"display: flex;padding-right: 3.5rem;padding-bottom: 0.625rem;border-bottom: 1px solid #ececed; align-items: center;\">\n",
    "            <img class=\"call-to-action-img\" src=\"img//colab.svg\" width=\"30\" height=\"30\" style=\"margin-right: 10px;margin-top: auto;margin-bottom: auto;\">\n",
    "            <div class=\"call-to-action-txt\">Run in Google Colab</div>\n",
    "        </div>\n",
    "    </a>\n",
    "    <a href=\"https://raw.githubusercontent.com/zazuko/notebooks/master/notebooks/animal-disease/epidemics.ipynb\" download>\n",
    "        <div id=\"download-link\" style=\"display: flex;padding-right: 3.5rem;padding-bottom: 0.625rem;border-bottom: 1px solid #ececed; height: auto;align-items: center;\">\n",
    "            <img class=\"call-to-action-img\" src=\"img//download.svg\" width=\"22\" height=\"30\" style=\"margin-right: 10px;margin-top: auto;margin-bottom: auto;\">\n",
    "            <div class=\"call-to-action-txt\">Download Notebook</div>\n",
    "        </div>\n",
    "    </a>\n",
    "    <a href=\"https://github.com/zazuko/notebooks/blob/master/notebooks/animal-disease/epidemics.ipynb\">\n",
    "        <div id=\"github-link\" style=\"display: flex;padding-right: 3.5rem;padding-bottom: 0.625rem;border-bottom: 1px solid #ececed; height: auto;align-items: center;\">\n",
    "            <img class=\"call-to-action-img\" src=\"img//github.svg\" width=\"25\" height=\"30\" style=\"margin-right: 10px;margin-top: auto;margin-bottom: auto;\">\n",
    "            <div class=\"call-to-action-txt\">View on GitHub</div>\n",
    "        </div>\n",
    "    </a>\n",
    "</div>\n",
    "\n",
    "# Animal diseases in Switzerland\n",
    "\n",
    "FOAG, Federal Office for Agriculture, collects data on the animal diseases in Switzerland. This data is published as [Linked Data](https://en.wikipedia.org/wiki/Linked_data). \n",
    "\n",
    "In this tutorial, we will show **how to work with Linked Data.** Mainly, we will see how to work with data on animal epidemics.   \n",
    "We will look into how to query, process, and visualize it.   \n",
    "\n",
    "[1. Setup](#Setup)    \n",
    "&nbsp;&nbsp;&nbsp;&nbsp;&nbsp;&nbsp;[1.1 Python](#SPARQL-endpoints)    \n",
    "&nbsp;&nbsp;&nbsp;&nbsp;&nbsp;&nbsp;[1.2 SPARQL endpoints](#SPARQL-endpoints)    \n",
    "&nbsp;&nbsp;&nbsp;&nbsp;&nbsp;&nbsp;[1.3 SPARQL client](#SPARQL-endpoints)    \n",
    "\n",
    "[2. Data](#Data)        \n",
    "&nbsp;&nbsp;&nbsp;&nbsp;&nbsp;&nbsp;[2.1 Animal species](#Animal-species)    \n",
    "&nbsp;&nbsp;&nbsp;&nbsp;&nbsp;&nbsp;[2.2 Diseases](#Diseases)    \n",
    "&nbsp;&nbsp;&nbsp;&nbsp;&nbsp;&nbsp;[2.3 Can we link disease to animal type?](#Can-we-link-disease-to-animal-type)  \n",
    "&nbsp;&nbsp;&nbsp;&nbsp;&nbsp;&nbsp;[2.4 Reports](#Reports)  \n",
    "&nbsp;&nbsp;&nbsp;&nbsp;&nbsp;&nbsp;[2.5 Example: goats](#example-goats)  \n",
    "\n",
    "\n",
    "[3. Analysis](#Analysis)    \n",
    "&nbsp;&nbsp;&nbsp;&nbsp;&nbsp;&nbsp;[3.1 Cattle: Mucosal Disease](#cattle-mucosal-disease)  \n",
    "&nbsp;&nbsp;&nbsp;&nbsp;&nbsp;&nbsp;[3.2 Bees: Sauerbrut](#Sauerbrut)  \n",
    "&nbsp;&nbsp;&nbsp;&nbsp;&nbsp;&nbsp;[3.3 Rabies](#Rabies)  \n",
    "&nbsp;&nbsp;&nbsp;&nbsp;&nbsp;&nbsp;[3.4 Biggest epidemics](#Biggest-epidemics)  \n",
    "&nbsp;&nbsp;&nbsp;&nbsp;&nbsp;&nbsp;[3.5 Epidemics over time](#Epidemics-over-time)  \n",
    "\n"
   ]
  },
  {
   "cell_type": "markdown",
   "id": "6a3e5743",
   "metadata": {},
   "source": [
    "## Setup"
   ]
  },
  {
   "cell_type": "markdown",
   "id": "e96bd575",
   "metadata": {},
   "source": [
    "### Python\n",
    "This notebook requires Python 3.9 or later to run."
   ]
  },
  {
   "cell_type": "markdown",
   "id": "d4442f36",
   "metadata": {},
   "source": [
    "### SPARQL endpoints\n",
    "\n",
    "#### For epidemiological data\n",
    "Reports on animal diseases are published as Linked Data. It can be accessed with [SPARQL queries](https://www.w3.org/TR/rdf-sparql-query/).   \n",
    "You can send queries using HTTP requests. The API endpoint is **[https://lindas.admin.ch/query/](https://int.lindas.admin.ch/query).**  \n",
    "\n",
    "#### For geodata\n",
    "Animal diseases are closely linked to places. To understand their location, we will work with \n",
    "Swiss geodata. It is published as Linked Data. It can be accessed using API endpoint under **[https://ld.geo.admin.ch/query](https://ld.geo.admin.ch/query).**  "
   ]
  },
  {
   "cell_type": "markdown",
   "id": "90db373f",
   "metadata": {},
   "source": [
    "### SPARQL client\n",
    "\n",
    "Let's use `SparqlClient` from [graphly](https://github.com/zazuko/graphly) to communicate with both databases. \n",
    "Graphly will allow us to:\n",
    "* send SPARQL queries\n",
    "* automatically add prefixes to all queries\n",
    "* format response to `pandas` or `geopandas`"
   ]
  },
  {
   "cell_type": "code",
   "execution_count": null,
   "id": "dc0815c3",
   "metadata": {},
   "outputs": [],
   "source": [
    "import datetime\n",
    "import itertools\n",
    "import json\n",
    "\n",
    "import folium\n",
    "import mapclassify\n",
    "import matplotlib as mpl\n",
    "import matplotlib.cm\n",
    "import networkx as nx\n",
    "import pandas as pd\n",
    "import plotly.express as px\n",
    "import plotly.graph_objects as go\n",
    "from bokeh.io import output_notebook, show\n",
    "from bokeh.models import (Circle, CustomJS, HoverTool, LabelSet, MultiLine,\n",
    "                          NodesAndLinkedEdges, Plot, TapTool)\n",
    "from bokeh.palettes import Paired\n",
    "from bokeh.plotting import ColumnDataSource, from_networkx\n",
    "from dateutil.relativedelta import relativedelta\n",
    "from folium.plugins import TimeSliderChoropleth\n",
    "from graphly.api_client import SparqlClient\n",
    "from plotly.subplots import make_subplots\n",
    "from enum import Enum\n",
    "from collections import namedtuple"
   ]
  },
  {
   "cell_type": "code",
   "execution_count": null,
   "id": "4bc9e4ef",
   "metadata": {},
   "outputs": [],
   "source": [
    "# Uncomment to install dependencies in Colab environment\n",
    "#!pip install mapclassify\n",
    "#!pip install git+https://github.com/zazuko/graphly.git"
   ]
  },
  {
   "cell_type": "code",
   "execution_count": null,
   "id": "985890ce",
   "metadata": {},
   "outputs": [],
   "source": [
    "sparql = SparqlClient(\"https://int.lindas.admin.ch/query\")\n",
    "geosparql = SparqlClient(\"https://ld.geo.admin.ch/query\")\n",
    "\n",
    "sparql.add_prefixes({\n",
    "    \"schema\": \"<http://schema.org/>\",\n",
    "    \"cube\": \"<https://cube.link/>\",\n",
    "    \"admin\": \"<https://schema.ld.admin.ch/>\",\n",
    "    \"skos\": \"<http://www.w3.org/2004/02/skos/core#>\",\n",
    "    \"disease\": \"<https://environment.ld.admin.ch/foen/animal-pest/>\"   \n",
    "})\n",
    "\n",
    "geosparql.add_prefixes({\n",
    "    \"dct\": \"<http://purl.org/dc/terms/>\",\n",
    "    \"geonames\": \"<http://www.geonames.org/ontology#>\",\n",
    "    \"schema\": \"<http://schema.org/>\",\n",
    "    \"geosparql\": \"<http://www.opengis.net/ont/geosparql#>\",\n",
    "})"
   ]
  },
  {
   "cell_type": "markdown",
   "id": "5ad20e26",
   "metadata": {},
   "source": [
    "SPARQL queries can become very long. To improve the readibility, we will work wih [prefixes](https://en.wikibooks.org/wiki/SPARQL/Prefixes).\n",
    " \n",
    "Using the `add_prefixes` method, we can define persistent prefixes. \n",
    "Every time you send a query, `graphly` will now automatically add the prefixes for you."
   ]
  },
  {
   "cell_type": "markdown",
   "id": "84f11bdf",
   "metadata": {},
   "source": [
    "## Data\n",
    "Our goal is to understand outbreaks of animal diseases. First, let's take a look at the animals found in our dataset."
   ]
  },
  {
   "cell_type": "markdown",
   "id": "aba8ccf3",
   "metadata": {},
   "source": [
    "### Animal species"
   ]
  },
  {
   "cell_type": "code",
   "execution_count": null,
   "id": "26a1d283",
   "metadata": {},
   "outputs": [],
   "source": [
    "query = \"\"\"\n",
    "SELECT DISTINCT ?specie ?group\n",
    "WHERE {\n",
    "  ?s disease:animal-specie ?specieIRI.\n",
    "  ?specieIRI schema:name ?specie.\n",
    "  \n",
    "  ?specieIRI skos:broader/schema:name ?group.\n",
    "  \n",
    "  FILTER (LANG(?specie) = \"de\")\n",
    "  FILTER (LANG(?group) = \"de\")\n",
    "} \n",
    "ORDER BY ?group\n",
    "\"\"\"\n",
    "\n",
    "df = sparql.send_query(query)\n",
    "df[0:15]"
   ]
  },
  {
   "cell_type": "markdown",
   "id": "1d7b623a",
   "metadata": {},
   "source": [
    "### Diseases\n",
    "Now, let's take a look at the diseases the animals can suffer from."
   ]
  },
  {
   "cell_type": "code",
   "execution_count": null,
   "id": "32c16046",
   "metadata": {},
   "outputs": [],
   "source": [
    "query = \"\"\"\n",
    "SELECT DISTINCT ?epidemics ?group\n",
    "WHERE {\n",
    "  ?s disease:epidemics ?epidemicsIRI.\n",
    "  ?epidemicsIRI schema:name ?epidemics.\n",
    "  \n",
    "  ?epidemicsIRI skos:broader/schema:name ?group.\n",
    "\n",
    "  FILTER (LANG(?epidemics) = \"de\")\n",
    "  FILTER (LANG(?group) = \"de\")\n",
    "}\n",
    "ORDER BY ?group\n",
    "\"\"\"\n",
    "\n",
    "df = sparql.send_query(query)\n",
    "df.head()"
   ]
  },
  {
   "cell_type": "markdown",
   "id": "998596de",
   "metadata": {},
   "source": [
    "### Can we link disease to animal type?"
   ]
  },
  {
   "cell_type": "markdown",
   "id": "b22750eb",
   "metadata": {},
   "source": [
    "Thus far, we have seen all animals, and all diseases. However, not all animals will catch all diseases.   \n",
    "What diseases are swiss animals exposed to?"
   ]
  },
  {
   "cell_type": "code",
   "execution_count": null,
   "id": "32867502",
   "metadata": {},
   "outputs": [],
   "source": [
    "query = \"\"\"\n",
    "SELECT DISTINCT ?epidemics ?specie ?group\n",
    "WHERE {\n",
    "  <https://environment.ld.admin.ch/foen/animal-pest/observation/> cube:observation ?obs .\n",
    "  ?obs disease:epidemics/schema:name ?epidemics;\n",
    "       disease:animal-specie ?specieIRI.\n",
    "       \n",
    "  ?specieIRI schema:name ?specie.\n",
    "  ?specieIRI skos:broader/schema:name ?group.\n",
    "  \n",
    "  FILTER (LANG(?epidemics) = \"de\")\n",
    "  FILTER (LANG(?specie) = \"de\")\n",
    "  FILTER (LANG(?group) = \"de\")\n",
    "} \n",
    "\n",
    "ORDER BY ?specie\n",
    "\"\"\"\n",
    "df = sparql.send_query(query)\n",
    "df = df[df.group != \"Wildtier\"]"
   ]
  },
  {
   "cell_type": "code",
   "execution_count": null,
   "id": "b7616894",
   "metadata": {},
   "outputs": [],
   "source": [
    "# Graph of epidemics-specie relations\n",
    "graph = nx.from_pandas_edgelist(df, source='epidemics', target='specie')\n",
    "groups = {key: \"epidemics\" for key in df.epidemics} | {key: \"specie\" for key in df.specie}\n",
    "\n",
    "nx.set_node_attributes(graph, groups, name=\"group\")\n",
    "\n",
    "colormaps = {\"fill_color\": \n",
    "                {\"epidemics\": Paired[4][0], \"specie\": Paired[4][2]}, \n",
    "            \"hover_color\": \n",
    "                {\"epidemics\": Paired[4][1], \"specie\": Paired[4][3]}\n",
    "            }\n",
    "\n",
    "for name, colormap in colormaps.items():\n",
    "    colors = {k: colormap[v] for k, v in groups.items()}\n",
    "    nx.set_node_attributes(graph, colors, name=name)"
   ]
  },
  {
   "cell_type": "code",
   "execution_count": null,
   "id": "39d97f0c",
   "metadata": {},
   "outputs": [],
   "source": [
    "# Interactive graph plot\n",
    "plot = Plot(plot_width = 1000, plot_height=1000)\n",
    "plot.title.text = 'Swiss animals and their diseases'\n",
    "\n",
    "graph_renderer = from_networkx(graph, nx.drawing.layout.bipartite_layout, nodes = df.specie.unique())\n",
    "\n",
    "# manipulating nodes\n",
    "nonselect_node = Circle(size = 15, fill_color = \"fill_color\")\n",
    "select_node = Circle(size = 15, fill_color = \"hover_color\")\n",
    "graph_renderer.node_renderer.glyph = nonselect_node\n",
    "graph_renderer.node_renderer.nonselection_glyph = nonselect_node\n",
    "graph_renderer.node_renderer.selection_glyph = select_node\n",
    "graph_renderer.node_renderer.hover_glyph = select_node\n",
    "graph_renderer.node_renderer.data_source.data['group'] = [groups[g] for g in graph_renderer.node_renderer.data_source.data[\"index\"]]\n",
    "\n",
    "# manipulating edges\n",
    "select_edge = MultiLine(line_color = Paired[7][-1], line_width = 2)\n",
    "graph_renderer.edge_renderer.glyph = MultiLine(line_color = '#CCCCCC', line_alpha = .5, line_width = 1)\n",
    "graph_renderer.edge_renderer.selection_glyph = select_edge\n",
    "graph_renderer.edge_renderer.hover_glyph = select_edge\n",
    "\n",
    "\n",
    "graph_renderer.selection_policy = NodesAndLinkedEdges()\n",
    "graph_renderer.inspection_policy = NodesAndLinkedEdges()\n",
    "\n",
    "plot.renderers.append(graph_renderer)\n",
    "\n",
    "callback_code = '''\n",
    "    if (cb_data.index.indices.length > 0) {\n",
    "        const index = cb_data.index.indices[0];\n",
    "\n",
    "        if (source.data.group[index] === \"specie\") {\n",
    "            hover.tooltips = [[\"Animal\", \"@index\"]];  \n",
    "        }\n",
    "        else {\n",
    "            hover.tooltips = [[\"Disease\", \"@index\"]];\n",
    "        }                                     \n",
    "    }\n",
    "'''\n",
    "\n",
    "hover = HoverTool(\n",
    "    renderers=[graph_renderer.node_renderer]\n",
    ")\n",
    "hover.callback = CustomJS(\n",
    "    args = dict(source = graph_renderer.node_renderer.data_source, hover = hover),\n",
    "    code = callback_code\n",
    ")\n",
    "\n",
    "pos = {k: v for k, v in graph_renderer.layout_provider.graph_layout.items() if graph.nodes[k][\"group\"] == \"specie\"}\n",
    "names = list(pos.keys())\n",
    "x, y = map(list, zip(*pos.values()))\n",
    "\n",
    "source = ColumnDataSource({'x': x, 'y': y, 'name': names})\n",
    "labels = LabelSet(x_offset=15, y_offset=-6, x='x', y='y', text='name', source=source, background_fill_color='white', text_font_size='10px', background_fill_alpha=.7)\n",
    "plot.renderers.append(labels)\n",
    "\n",
    "plot.add_tools(hover, TapTool())\n",
    "\n",
    "output_notebook()\n",
    "show(plot)"
   ]
  },
  {
   "cell_type": "markdown",
   "id": "a8672d8b",
   "metadata": {},
   "source": [
    "### Reports \n",
    "When animals get sick, the farmer will typically consult a vet. After diagnosis, the incident is reported to the Federal Office for Agriculture. This data is publicly available and can be found in our endpoint:"
   ]
  },
  {
   "cell_type": "code",
   "execution_count": null,
   "id": "148c4591",
   "metadata": {},
   "outputs": [],
   "source": [
    "#Run in browser: https://s.zazuko.com/24fSKE\n",
    "query = \"\"\"\n",
    "SELECT ?diagnosis ?commune ?specie ?stock ?sick ?infected ?killed ?deceased ?epidemics\n",
    "WHERE {\n",
    "  <https://environment.ld.admin.ch/foen/animal-pest/observation/> cube:observation ?obs .\n",
    "  ?obs disease:epidemics/schema:name ?epidemics;\n",
    "       disease:diagnosis-date ?diagnosis;\n",
    "       disease:animals-stock ?stock;\n",
    "       disease:animals-sick ?sick;\n",
    "       disease:animals-infected ?infected;\n",
    "       disease:animals-killed ?killed;\n",
    "       disease:animals-deceased ?deceased;\n",
    "       disease:internet-publication ?date;\n",
    "       disease:animal-specie/schema:name ?specie;\n",
    "       schema:containedInPlace/schema:name ?commune .\n",
    "  \n",
    "  FILTER (LANG(?epidemics) = \"de\")\n",
    "  FILTER (LANG(?specie) = \"de\")\n",
    "} \n",
    "ORDER BY DESC(?diagnosis) ?commune\n",
    "\"\"\"\n",
    "df = sparql.send_query(query)\n",
    "df.head()"
   ]
  },
  {
   "cell_type": "markdown",
   "id": "09ce4eb9",
   "metadata": {},
   "source": [
    "### Aggregated reports\n",
    "The reports give us many details. It tells us not only what specie was affected, but also how many animals got sick, infected, or deceased. \n",
    "\n",
    "These reports, however, have one limitation. They are sent only once per incident. If a goat gets sick, the vet will examine the entire herd. S/he will check how many goats are sick, or infected. S/he may recommend killing parts or the entire herd. The farmer, or the vet, will then report how many aniamls were sick, infected, killed, or deceased. \n",
    "\n",
    "But that will happen only once. Nobody will examine this herd again, be it the same week or later. Hence we do not know how a given disease evolved. A seemingly insignificant report may turn out to be a serious issue a few days later. We also do not know at which point in time the report was made. Was it a day, two or ten after the first infection?\n",
    "\n",
    "The data from the reports raises many questions. To address them, we will work with **number of reports**. \n",
    "Instead of looking at how individual farms were affected, we will simply count how many farms reported health issues. \n",
    "\n",
    "Our core data becomes:\n"
   ]
  },
  {
   "cell_type": "code",
   "execution_count": null,
   "id": "86e7dc20",
   "metadata": {},
   "outputs": [],
   "source": [
    "query = \"\"\"\n",
    "SELECT ?diagnosis ?municipality_id ?municipality ?specie ?epidemics\n",
    "WHERE {\n",
    "  <https://environment.ld.admin.ch/foen/animal-pest/observation/> cube:observation ?obs .\n",
    "  ?obs disease:epidemics/schema:name ?epidemics;\n",
    "       disease:diagnosis-date ?diagnosis;\n",
    "       disease:internet-publication ?date;\n",
    "       disease:animal-specie/schema:name ?specie;\n",
    "       schema:containedInPlace ?municipality_iri.\n",
    "       \n",
    "  ?municipality_iri schema:name ?municipality ;\n",
    "                    schema:identifier ?municipality_id.\n",
    "  \n",
    "  FILTER (LANG(?epidemics) = \"de\")\n",
    "  FILTER (LANG(?specie) = \"de\")\n",
    "} \n",
    "ORDER BY DESC(?diagnosis) ?municipality\n",
    "\"\"\"\n",
    "df = sparql.send_query(query)"
   ]
  },
  {
   "cell_type": "code",
   "execution_count": null,
   "id": "a286465c",
   "metadata": {},
   "outputs": [],
   "source": [
    "def aggregate_reports(reports: pd.DataFrame, weekly: bool) -> pd.DataFrame:\n",
    "    df = reports.copy()\n",
    "    if weekly:\n",
    "        df[\"diagnosis\"] = df.diagnosis.apply(lambda x: datetime.date(x.year, 1, 1) + relativedelta(weeks=+x.isocalendar()[1]))\n",
    "    else:\n",
    "        df['diagnosis'] = df.diagnosis.apply(lambda x: datetime.date(x.year, x.month, 1))\n",
    "\n",
    "    return df[[\"diagnosis\", \"specie\", \"epidemics\", \"municipality_id\"]].groupby(by=[\"diagnosis\", \"specie\", \"epidemics\", \"municipality_id\"]).size().reset_index(name=\"reports\")\n"
   ]
  },
  {
   "cell_type": "code",
   "execution_count": null,
   "id": "1fbd26b2",
   "metadata": {},
   "outputs": [],
   "source": [
    "# Aggregate results by week/month\n",
    "df_monthly = aggregate_reports(df, False)\n",
    "df_monthly = df_monthly[[\"diagnosis\", \"specie\", \"epidemics\"]].groupby(by=[\"diagnosis\", \"specie\", \"epidemics\"]).size().reset_index(name=\"reports\")\n",
    "df_monthly = df_monthly.sort_values(by=[\"diagnosis\", \"epidemics\", \"specie\"], ascending=False).reset_index(drop=True)\n",
    "df_monthly.head()"
   ]
  },
  {
   "cell_type": "markdown",
   "id": "1295371d",
   "metadata": {},
   "source": [
    "## Example: goats\n",
    "\n",
    "We have seen that one animal can suffer from many diseases. Remember the animal-disease graph?\n",
    "A goat can get sick of twenty different diseases!  \n",
    "\n",
    "<div align=\"center\"><h3>Goat diseases</h3></div>\n",
    "<img src=\"img/goat.png\" alt=\"drawing\" width=\"400\"/>  \n",
    "\n",
    "Some of them are more serious than others. Which ones were the most often reported in the past?"
   ]
  },
  {
   "cell_type": "code",
   "execution_count": null,
   "id": "9f79f37d",
   "metadata": {},
   "outputs": [],
   "source": [
    "DimensionData = namedtuple('Dimension', ['slice_of', \"category\"])\n",
    "\n",
    "class Dimension(Enum):\n",
    "\n",
    "    Epidemic = DimensionData(\"epidemics\", \"specie\")\n",
    "    Specie = DimensionData(\"specie\", \"epidemics\")\n",
    "\n",
    "def plot_multiple_categories(df: pd.DataFrame, dim: Dimension, value: str, min_reports: int=15, min_reports_at_time:int = 5) -> None:\n",
    "\n",
    "    category = dim.value.category\n",
    "    df_slice = df[df[dim.value.slice_of] == value]\n",
    "    counts = df_slice[[category, \"reports\"]].groupby(category).agg([\"sum\", \"max\"]).reset_index()\n",
    "    categories_filtered = list(counts[(counts[\"reports\"][\"sum\"] >= min_reports) & (counts[\"reports\"][\"max\"] >= min_reports_at_time)][category])\n",
    "    df_slice = df_slice[df_slice[category].isin(categories_filtered)]\n",
    "\n",
    "    all_dates = [x.date() for x in pd.date_range(df_slice.diagnosis.min(), df_slice.diagnosis.max(), freq='MS')]\n",
    "    combinations = list(itertools.product(*[all_dates, df_slice[category].unique()]))\n",
    "    values_empty = pd.DataFrame(combinations, columns =['diagnosis', category])\n",
    "    plot_df = pd.merge(values_empty, df_slice, how=\"left\", on=[\"diagnosis\", category]).fillna(0)\n",
    "\n",
    "    fig = go.Figure()\n",
    "    for cat in plot_df[category].unique():\n",
    "        plot_df_slice = plot_df[plot_df[category] == cat]\n",
    "        labels = [\"<b>{}</b><br>Date: {}<br>Reports: {}\".format(cat, row.diagnosis, int(row.reports)) for row in plot_df_slice[[\"diagnosis\", \"reports\"]].itertuples()]\n",
    "        fig.add_trace(go.Scatter(x=plot_df_slice.diagnosis, y=plot_df_slice.reports, name=cat,\n",
    "                            text=labels,\n",
    "                            hoverinfo='text',\n",
    "                            line_shape='spline'))\n",
    "\n",
    "    fig.update_xaxes(rangeslider_visible=True, range=[min(plot_df.diagnosis), max(plot_df.diagnosis)])\n",
    "    fig.update_yaxes(title=\"reports\", range = [0, int(max(plot_df.reports)*1.1)+1])\n",
    "    fig.update_layout(\n",
    "        title={\"text\": \"Epidemics: {}\".format(value), \"x\": 0.5}\n",
    "    )\n",
    "    fig.show()"
   ]
  },
  {
   "cell_type": "code",
   "execution_count": null,
   "id": "06f0dd56",
   "metadata": {},
   "outputs": [],
   "source": [
    "plot_multiple_categories(df_monthly, Dimension.Specie, \"Ziege\", 15, 5)"
   ]
  },
  {
   "cell_type": "markdown",
   "id": "7c5b1bc6",
   "metadata": {},
   "source": [
    "## Analysis"
   ]
  },
  {
   "cell_type": "markdown",
   "id": "eb36c8da",
   "metadata": {},
   "source": [
    "Some diseases get more serious than others. What were the most reported diseases in the last years?"
   ]
  },
  {
   "cell_type": "code",
   "execution_count": null,
   "id": "9c1118d2",
   "metadata": {},
   "outputs": [],
   "source": [
    "diseases = df_monthly[[\"reports\", \"epidemics\"]].groupby(\"epidemics\").sum().reset_index().sort_values(by=\"reports\", ascending=False).reset_index(drop=True)\n",
    "diseases[:15]"
   ]
  },
  {
   "cell_type": "markdown",
   "id": "525571d7",
   "metadata": {},
   "source": [
    "### Cattle: Mucosal Disease\n",
    "Bovine Virusdiarrhoe / Mucosal Disease seems to be the most serious outbreak. Let's take a loot at the number of reports over time.\n",
    "\n",
    "We can see that *Bovine Virusdiarrhoe* has a serious outbreak in 2008-2009. The number of reports remained high for many months after the outbreak. While reports are less frequent now, *Bovine Virusdiarrhoe* remains present among swiss cows."
   ]
  },
  {
   "cell_type": "code",
   "execution_count": null,
   "id": "42358010",
   "metadata": {},
   "outputs": [],
   "source": [
    "disease = \"Bovine Virusdiarrhoe / Mucosal Disease\"\n",
    "plot_df = df_monthly[df_monthly.epidemics == disease]\n",
    "fig = px.bar(plot_df, x=\"diagnosis\", y=\"reports\")\n",
    "fig.update_layout(\n",
    "    title={\"text\": disease, \"x\": 0.5}\n",
    ")\n",
    "fig.show()"
   ]
  },
  {
   "cell_type": "markdown",
   "id": "9edcbeb7",
   "metadata": {},
   "source": [
    "### Bees: Sauerbrut\n",
    "*Sauerbrut der Bienen* is the second most reported animal disease. Taking a look at the frequency of reports, explains why. \n",
    "\n",
    "*Sauerbrut* is a seasonal disease. One can observe it first in early spring. Numbers peak around May, and tend to go down afterwards. While we cannot speak about one, big outbreak, *sauerbrut* is defnitely an issue for apiculturists."
   ]
  },
  {
   "cell_type": "code",
   "execution_count": null,
   "id": "3d015107",
   "metadata": {},
   "outputs": [],
   "source": [
    "disease = \"Sauerbrut der Bienen\"\n",
    "plot_df = df_monthly[df_monthly.epidemics == disease]\n",
    "fig = px.bar(plot_df, x=\"diagnosis\", y=\"reports\")\n",
    "fig.update_xaxes(rangeslider_visible=True)\n",
    "fig.update_layout(\n",
    "    title={\"text\": disease, \"x\": 0.5}\n",
    ")\n",
    "fig.show()"
   ]
  },
  {
   "cell_type": "markdown",
   "id": "e715fc10",
   "metadata": {},
   "source": [
    "### Bees: diseases\n",
    "What about other bee diseases? Are they also seasonal?"
   ]
  },
  {
   "cell_type": "code",
   "execution_count": null,
   "id": "1967437d",
   "metadata": {},
   "outputs": [],
   "source": [
    "plot_multiple_categories(df_monthly, Dimension.Specie, \"Bienen\", 15, 2)"
   ]
  },
  {
   "cell_type": "markdown",
   "id": "04921fba",
   "metadata": {},
   "source": [
    "While *Sauerbrut* is clearly the biggest issue, it is not the only seasonal bees' disease . *Faulbrut* also shows seasonality pattern, with peak reports in springtime."
   ]
  },
  {
   "cell_type": "markdown",
   "id": "bc66b622",
   "metadata": {},
   "source": [
    "### Rabies\n",
    "Now, let's take a look at rabies. \n",
    "\n",
    "A histogram tells a clear story: rabies is barely reported any more! Rabies was a serious issue until ~1995. But nowadays, almost no cases of rabies in Switzerland are reported."
   ]
  },
  {
   "cell_type": "code",
   "execution_count": null,
   "id": "73c42940",
   "metadata": {},
   "outputs": [],
   "source": [
    "disease = \"Tollwut\"\n",
    "plot_df = df_monthly[df_monthly.epidemics == disease]\n",
    "fig = px.bar(plot_df, x=\"diagnosis\", y=\"reports\")\n",
    "fig.update_layout(\n",
    "    title={\"text\": disease, \"x\": 0.5}\n",
    ")\n",
    "fig.show()"
   ]
  },
  {
   "cell_type": "markdown",
   "id": "b6b3e3ec",
   "metadata": {},
   "source": [
    "### Rabies: animals\n",
    "\n",
    "What animals were main carriers of rabis?"
   ]
  },
  {
   "cell_type": "code",
   "execution_count": null,
   "id": "890cf3ac",
   "metadata": {},
   "outputs": [],
   "source": [
    "plot_multiple_categories(df_monthly, Dimension.Epidemic, \"Tollwut\", 15, 2)"
   ]
  },
  {
   "cell_type": "markdown",
   "id": "ab5cc082",
   "metadata": {},
   "source": [
    "The graph shows how effective the oral vaccination of foxes for rabies has been in the middle of the nineties."
   ]
  },
  {
   "cell_type": "markdown",
   "id": "b0855add",
   "metadata": {},
   "source": [
    "### Biggest epidemics\n",
    "\n",
    "Now, let's take a look at the most serious of the last years. What are the patterns?\n",
    "How many epidemics did we have? Are there any trends, or seasonalities?"
   ]
  },
  {
   "cell_type": "code",
   "execution_count": null,
   "id": "55c0f98e",
   "metadata": {},
   "outputs": [],
   "source": [
    "ROWS=4\n",
    "COLS=2\n",
    "\n",
    "biggest_epidemics = diseases[0:ROWS*COLS]\n",
    "fig = make_subplots(rows=ROWS, cols=COLS, subplot_titles=biggest_epidemics[\"epidemics\"])\n",
    "for obs in biggest_epidemics.itertuples():\n",
    "    \n",
    "    row = obs.Index//COLS + 1\n",
    "    col = obs.Index%COLS + 1\n",
    "    plot_df = df_monthly[df_monthly.epidemics == obs.epidemics]\n",
    "    fig.append_trace(go.Scatter(x=plot_df[\"diagnosis\"], y=plot_df[\"reports\"], name=obs.epidemics, marker_color=px.colors.qualitative.Dark24[0], line_shape=\"spline\"), row=row, col=col)\n",
    "    \n",
    "fig.update_layout(height=1200, width=1000, title={\"text\": \"Biggest animal epidemics in Switzerland\", \"x\": 0.5}, showlegend=False)\n",
    "fig.show()"
   ]
  },
  {
   "cell_type": "markdown",
   "id": "a7a5308a",
   "metadata": {},
   "source": [
    "### Epidemics over time\n",
    "\n",
    "*Bovine Virusdiarrhoe* is clearly the biggest outbreak of the past years. Hundreds of farms were affected every month, leaving thousands of cows sick. \n",
    "\n",
    "But how did that outbreak came to be? Where did it start, and how did it spread?\n"
   ]
  },
  {
   "cell_type": "code",
   "execution_count": null,
   "id": "792621da",
   "metadata": {},
   "outputs": [],
   "source": [
    "query = \"\"\"\n",
    "SELECT ?municipality_id ?municipality ?boundary \n",
    "\n",
    "WHERE {\n",
    "  ?muni_iri dct:hasVersion ?version ;\n",
    "            geonames:featureCode geonames:A.ADM3 .\n",
    "  \n",
    "  ?version schema:validUntil \"2020-12-31\"^^<http://www.w3.org/2001/XMLSchema#date>;\n",
    "           schema:name ?municipality;\n",
    "           geosparql:hasGeometry/geosparql:asWKT ?boundary.\n",
    "  \n",
    "  BIND(IRI(REPLACE(STR(?muni_iri), \"https://ld.geo.admin.ch/boundaries/\", \"https://ld.admin.ch/\")) AS ?municipality_id)\n",
    "}\n",
    "\"\"\"\n",
    "communes = geosparql.send_query(query)\n",
    "communes = communes.set_crs(epsg=4326)\n",
    "communes[\"municipality_id\"] = communes.municipality_id.str.split(\"/\").str[-1].astype(int)\n",
    "communes = communes.set_index(\"municipality_id\")"
   ]
  },
  {
   "cell_type": "code",
   "execution_count": null,
   "id": "0fcc4f93",
   "metadata": {},
   "outputs": [],
   "source": [
    "DISEASE = \"Bovine Virusdiarrhoe / Mucosal Disease\"\n",
    "SPECIE = \"Rind\"\n",
    "START = datetime.date(2008, 3, 1)\n",
    "END = datetime.date(2009, 7, 1)\n",
    "WINDOW = 6\n",
    "\n",
    "df_weekly = aggregate_reports(df, True)\n",
    "subset = df_weekly[(df_weekly.specie == SPECIE) & (df_weekly.epidemics == DISEASE) & (df_weekly.diagnosis >= START) & (df_weekly.diagnosis <= END)].copy()\n",
    "rolling_reports = subset[[\"diagnosis\", \"municipality_id\", \"reports\"]].pivot(index=\"diagnosis\", columns=\"municipality_id\", values=\"reports\").sort_index().fillna(0)\n",
    "rolling_reports = rolling_reports.rolling(WINDOW).sum().iloc[WINDOW-1:,:]\n",
    "\n",
    "datetime_index = pd.DatetimeIndex(rolling_reports.index)\n",
    "dt_index_epochs = datetime_index.view(\"int\") // 10**9\n",
    "rolling_reports.index = dt_index_epochs.astype('U10')"
   ]
  },
  {
   "cell_type": "code",
   "execution_count": null,
   "id": "ee28d61b",
   "metadata": {},
   "outputs": [],
   "source": [
    "bins = [1,2,5,8,25]\n",
    "classifier = mapclassify.UserDefined(y=rolling_reports.values[rolling_reports.values > 0], bins=bins)\n",
    "categories = range(len(bins))\n",
    "colormap = {cat: mpl.colors.rgb2hex(mpl.cm.PuRd(i/(len(categories)-1))) for i, cat in enumerate(categories)}\n",
    "\n",
    "styledict = {}\n",
    "timestamps = rolling_reports.index\n",
    "for commune in communes.index:\n",
    "    styledict[commune] = {str(t): {\"color\": colormap[0], \"opacity\": 1} for t in timestamps}\n",
    "    \n",
    "    if commune in rolling_reports.columns:\n",
    "        for timestamp in timestamps:\n",
    "            reports = rolling_reports.loc[timestamp, commune]\n",
    "\n",
    "            reports_classified = classifier(reports)[0]\n",
    "            styledict[commune][str(timestamp)] = {\"color\": colormap[reports_classified], \"opacity\": 1}\n",
    "\n",
    "\n",
    "communes[\"dummy\"] = 0\n",
    "m = folium.Map(location=[46.83, 8.13], zoom_start=8, tiles=\"cartodbpositron\")\n",
    "\n",
    "g = TimeSliderChoropleth(\n",
    "    communes.to_json(),\n",
    "    styledict=styledict\n",
    ").add_to(m)\n",
    "\n",
    "folium.Choropleth(\n",
    "    geo_data=json.loads(communes.to_json()),\n",
    "    data=communes,\n",
    "    columns=['municipality', 'dummy'],\n",
    "    key_on='feature.id',\n",
    "    fill_color= 'PuRd',\n",
    "    fill_opacity=0.0,\n",
    "    line_opacity=0.0,\n",
    "    bins=[0]+bins,\n",
    "    legend_name=\"Cases of {}\".format(DISEASE)\n",
    ").add_to(m)\n",
    "\n",
    "folium.LayerControl().add_to(m)\n",
    "m"
   ]
  },
  {
   "cell_type": "code",
   "execution_count": null,
   "id": "6c2234c6",
   "metadata": {},
   "outputs": [],
   "source": []
  }
 ],
 "metadata": {
  "interpreter": {
   "hash": "52612798f5eced5fbe3f58e9481faf8401bf1ada0bff399e6095e3d5ee493763"
  },
  "kernelspec": {
   "display_name": "zazuko",
   "language": "python",
   "name": "zazuko"
  },
  "language_info": {
   "codemirror_mode": {
    "name": "ipython",
    "version": 3
   },
   "file_extension": ".py",
   "mimetype": "text/x-python",
   "name": "python",
   "nbconvert_exporter": "python",
   "pygments_lexer": "ipython3",
   "version": "3.9.5"
  }
 },
 "nbformat": 4,
 "nbformat_minor": 5
}
