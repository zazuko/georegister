{
 "cells": [
  {
   "cell_type": "markdown",
   "id": "54d053e8",
   "metadata": {},
   "source": [
    "TODO:\n",
    "\n",
    "1. Folium => Can we do categorical plots?\n",
    "2. Titles + menu\n",
    "3. Storyline\n",
    "4. Can we remove warning?\n",
    "\n",
    "------------ Maybe-------------\n",
    "\n",
    "4. Readme in notebook folder\n",
    "5. Join query with swisstopo"
   ]
  },
  {
   "cell_type": "markdown",
   "id": "150a350c",
   "metadata": {},
   "source": [
    "<div class=\"notebook-buttons\" style=\"display:flex; padding-top: 5rem;padding-bottom: 2.5rem;line-height: 2.15;\">\n",
    "    <a href=\"https://colab.research.google.com/github/zazuko/notebooks/blob/master/notebooks/electricity-prices/electricity-prices.ipynb\">\n",
    "        <div id=\"colab-link\" style=\"display: flex;padding-right: 3.5rem;padding-bottom: 0.625rem;border-bottom: 1px solid #ececed; align-items: center;\">\n",
    "            <img class=\"call-to-action-img\" src=\"../img/colab.svg\" width=\"30\" height=\"30\" style=\"margin-right: 10px;margin-top: auto;margin-bottom: auto;\">\n",
    "            <div class=\"call-to-action-txt\">Run in Google Colab</div>\n",
    "        </div>\n",
    "    </a>\n",
    "    <a href=\"https://raw.githubusercontent.com/zazuko/notebooks/master/notebooks/electricity-prices/electricity-prices.ipynb\" download>\n",
    "        <div id=\"download-link\" style=\"display: flex;padding-right: 3.5rem;padding-bottom: 0.625rem;border-bottom: 1px solid #ececed; height: auto;align-items: center;\">\n",
    "            <img class=\"call-to-action-img\" src=\"../img/download.svg\" width=\"22\" height=\"30\" style=\"margin-right: 10px;margin-top: auto;margin-bottom: auto;\">\n",
    "            <div class=\"call-to-action-txt\">Download Notebook</div>\n",
    "        </div>\n",
    "    </a>\n",
    "    <a href=\"https://github.com/zazuko/notebooks/blob/master/notebooks/electricity-prices/electricity-prices.ipynb\">\n",
    "        <div id=\"github-link\" style=\"display: flex;padding-right: 3.5rem;padding-bottom: 0.625rem;border-bottom: 1px solid #ececed; height: auto;align-items: center;\">\n",
    "            <img class=\"call-to-action-img\" src=\"../img/github.svg\" width=\"25\" height=\"30\" style=\"margin-right: 10px;margin-top: auto;margin-bottom: auto;\">\n",
    "            <div class=\"call-to-action-txt\">View on GitHub</div>\n",
    "        </div>\n",
    "    </a>\n",
    "</div>\n",
    "\n",
    "# Electricity prices in Switzerland\n",
    "\n",
    "ElCom, the Federal Electricity Commission, collects data on the electricity tariffs for household and companies. This data is published as [Linked Data](https://en.wikipedia.org/wiki/Linked_data). \n",
    "\n",
    "In this tutorial, we will show **how to work with Linked Data.** Mainly, we will see how to work with data on electricity tariffs.   \n",
    "We will look into how to query, process, and visualize it.   \n"
   ]
  },
  {
   "cell_type": "markdown",
   "id": "d74eb8bc",
   "metadata": {},
   "source": [
    "## Here goes menu\n",
    "[1. Restaurants over time](#Restaurants-over-time)  \n",
    "[2. Restaurants in city quartiers](#Restaurants-in-city-quartiers)  \n",
    "[3. After-school care: gender-representation](#After-school-care:-gender-representation)"
   ]
  },
  {
   "cell_type": "markdown",
   "id": "0a10a048",
   "metadata": {},
   "source": [
    "### SPARQL endpoints\n",
    "\n",
    "#### For electricity traiffs\n",
    "Data on all electricity tariffs is published as Linked Data. It can be accessed with [SPARQL queries](https://www.w3.org/TR/rdf-sparql-query/).   \n",
    "You can send queries using HTTP requests. The API endpoint is **[https://lindas.admin.ch/query/](https://int.lindas.admin.ch/query).**  \n",
    "\n",
    "#### For geodata\n",
    "Different municipalities may have different tariffs. To understand their location, we will work with \n",
    "swiss geodata. It is published as Linked Data. It can be accessed using API endpoint under **[https://ld.geo.admin.ch/query](https://ld.geo.admin.ch/query).**  "
   ]
  },
  {
   "cell_type": "markdown",
   "id": "aba55bdb",
   "metadata": {},
   "source": [
    "Let's use `SparqlClient` from [graphly](https://github.com/zazuko/graphly) to communicate with both databases. \n",
    "Graphly will allow us to:\n",
    "* send SPARQL queries\n",
    "* automatically add prefixes to all queries\n",
    "* format response to `pandas` or `geopandas`"
   ]
  },
  {
   "cell_type": "code",
   "execution_count": null,
   "id": "90b569b3",
   "metadata": {},
   "outputs": [],
   "source": [
    "import string\n",
    "import re\n",
    "import json\n",
    "\n",
    "import pandas as pd\n",
    "import plotly.express as px\n",
    "from plotly.subplots import make_subplots\n",
    "import plotly.graph_objects as go\n",
    "import matplotlib.pyplot as plt\n",
    "import mapclassify\n",
    "\n",
    "import matplotlib as mpl\n",
    "import matplotlib.cm as cm\n",
    "import folium\n",
    "\n",
    "from graphly.api_client import SparqlClient\n",
    "\n",
    "# TODO: \n",
    "# 1. Ask Geoimpact for list of \"Firmen mit eigene Transformatorenstation\"\n",
    "# 2. Join query with swisstopo\n",
    "# 3. New notebook: Electricity prices over time. Were market prices reflected on end consumers ? "
   ]
  },
  {
   "cell_type": "code",
   "execution_count": null,
   "id": "9a296554",
   "metadata": {},
   "outputs": [],
   "source": [
    "# Uncomment to install dependencies in Colab environment\n",
    "#!pip install mapclassify\n",
    "#!pip install git+https://github.com/zazuko/graphly.git"
   ]
  },
  {
   "cell_type": "code",
   "execution_count": null,
   "id": "97d8b781",
   "metadata": {},
   "outputs": [],
   "source": [
    "sparql = SparqlClient(\"https://int.lindas.admin.ch/query\")\n",
    "geosparql = SparqlClient(\"https://ld.geo.admin.ch/query\")\n",
    "\n",
    "sparql.add_prefixes({\n",
    "    \"schema\": \"<http://schema.org/>\",\n",
    "    \"cube\": \"<https://cube.link/>\",\n",
    "    \"elcom\": \"<https://energy.ld.admin.ch/elcom/electricityprice/dimension/>\"\n",
    "})\n",
    "\n",
    "geosparql.add_prefixes({\n",
    "    \"dct\": \"<http://purl.org/dc/terms/>\",\n",
    "    \"geonames\": \"<http://www.geonames.org/ontology#>\",\n",
    "    \"schema\": \"<http://schema.org/>\",\n",
    "    \"geosparql\": \"<http://www.opengis.net/ont/geosparql#>\",\n",
    "})"
   ]
  },
  {
   "cell_type": "markdown",
   "id": "70cdd8cb",
   "metadata": {},
   "source": [
    "SPARQL queries can become very long. To improve the readibility, we will work wih [prefixes](https://en.wikibooks.org/wiki/SPARQL/Prefixes).\n",
    " \n",
    "Using `add_prefixes` method, we can define persistent prefixes. \n",
    "Every time you send a query, `graphly` will now automatically add the prefixes for you."
   ]
  },
  {
   "cell_type": "markdown",
   "id": "3e4c6350",
   "metadata": {},
   "source": [
    "### Electricity tariffs"
   ]
  },
  {
   "cell_type": "code",
   "execution_count": null,
   "id": "1bccd740",
   "metadata": {},
   "outputs": [],
   "source": [
    "query = \"\"\"\n",
    "SELECT ?municipality_id ?category ?energy ?grid ?aidfee (?community_fees + ?aidfee as ?taxes) ?fixcosts ?variablecosts \n",
    "FROM <https://lindas.admin.ch/elcom/electricityprice>\n",
    "WHERE {\n",
    "    <https://energy.ld.admin.ch/elcom/electricityprice/observation/> cube:observation ?observation.\n",
    "    \n",
    "    ?observation\n",
    "      elcom:category/schema:name ?category;\n",
    "      elcom:municipality ?municipality_id;\n",
    "      elcom:period \"2020\"^^<http://www.w3.org/2001/XMLSchema#gYear>;\n",
    "      elcom:product <https://energy.ld.admin.ch/elcom/electricityprice/product/standard>;\n",
    "      elcom:fixcosts ?fixcosts;\n",
    "      elcom:total ?variablecosts;\n",
    "      elcom:gridusage ?grid;\n",
    "      elcom:energy ?energy;\n",
    "      elcom:charge ?community_fees;\n",
    "      elcom:aidfee ?aidfee.\n",
    "      \n",
    "}\n",
    "ORDER BY ?muncipality ?category ?variablecosts\n",
    "\"\"\"\n",
    "\n",
    "prices = sparql.send_query(query)\n",
    "prices = prices.groupby([\"municipality_id\", \"category\"]).first().reset_index()\n",
    "prices.head()"
   ]
  },
  {
   "cell_type": "code",
   "execution_count": null,
   "id": "b20c3b7d",
   "metadata": {},
   "outputs": [],
   "source": [
    "query = \"\"\"\n",
    "SELECT DISTINCT ?category ?description\n",
    "WHERE {\n",
    "  GRAPH <https://lindas.admin.ch/elcom/electricityprice> {\n",
    "    \n",
    "    ?s <https://energy.ld.admin.ch/elcom/electricityprice/dimension/category> ?category_uri.\n",
    "    ?category_uri schema:name ?category .\n",
    "    ?category_uri schema:description ?description .\n",
    "  }\n",
    "}\n",
    "ORDER BY ?category\n",
    "\"\"\"\n",
    "df = sparql.send_query(query)\n",
    "df.head()"
   ]
  },
  {
   "cell_type": "code",
   "execution_count": null,
   "id": "8dbe00be",
   "metadata": {},
   "outputs": [],
   "source": [
    "def extract_consumption(description: str) -> int:\n",
    "    \"\"\"\n",
    "    Extract average electricity consumption from a description.\n",
    "    Args:\n",
    "        description:  Category description for electricity prices\n",
    "        \n",
    "    Returns: \n",
    "        int:          Electricity consumption in kWh/year\n",
    "    \n",
    "    \"\"\"\n",
    "    \n",
    "    number_as_string = description.split(\" kWh/Jahr\")[0]\n",
    "    return int(number_as_string.translate(str.maketrans('', '', string.punctuation)))"
   ]
  },
  {
   "cell_type": "code",
   "execution_count": null,
   "id": "2a3f00ec",
   "metadata": {},
   "outputs": [],
   "source": [
    "cat2description = dict(zip(df.category, df.description))\n",
    "cat2consumption = dict(zip(df.category, [extract_consumption(d) for d in df.description]))\n",
    "\n",
    "prices[\"consumption\"] = prices[[\"category\"]].replace({\"category\": cat2consumption})\n",
    "prices[\"monthly_bill\"] = ((prices.consumption*prices.variablecosts/12 + prices.fixcosts)/100).round(2)\n",
    "prices.head()"
   ]
  },
  {
   "cell_type": "code",
   "execution_count": null,
   "id": "635b363a",
   "metadata": {},
   "outputs": [],
   "source": [
    "query = \"\"\"    \n",
    "SELECT ?municipality_id ?municipality ?population ?boundary \n",
    "\n",
    "WHERE {\n",
    "  ?muni_iri dct:hasVersion ?version ;\n",
    "            geonames:featureCode geonames:A.ADM3 .\n",
    "  \n",
    "  ?version schema:validUntil \"2020-12-31\"^^<http://www.w3.org/2001/XMLSchema#date>;\n",
    "           geonames:population ?population;\n",
    "           schema:name ?municipality;\n",
    "           geosparql:hasGeometry/geosparql:asWKT ?boundary.\n",
    "  \n",
    "  BIND(IRI(REPLACE(STR(?muni_iri), \"https://ld.geo.admin.ch/boundaries/\", \"https://ld.admin.ch/\")) AS ?municipality_id)\n",
    "}\n",
    "\n",
    "\"\"\"\n",
    "communes = geosparql.send_query(query)\n",
    "communes = communes.set_crs(epsg=4326)\n",
    "communes.head()"
   ]
  },
  {
   "cell_type": "code",
   "execution_count": null,
   "id": "83dcc0f9",
   "metadata": {},
   "outputs": [],
   "source": [
    "communes.plot()"
   ]
  },
  {
   "cell_type": "code",
   "execution_count": null,
   "id": "d08d676c",
   "metadata": {},
   "outputs": [],
   "source": [
    "join = pd.merge(communes[[\"municipality_id\", \"municipality\", \"population\", \"boundary\"]], prices, how=\"inner\", on=\"municipality_id\")\n",
    "join.drop(columns=[\"variablecosts\", \"consumption\"], inplace=True)\n",
    "join.head()"
   ]
  },
  {
   "cell_type": "markdown",
   "id": "cf297c2f",
   "metadata": {},
   "source": [
    "## Prices across regions"
   ]
  },
  {
   "cell_type": "code",
   "execution_count": null,
   "id": "e00c4a9a",
   "metadata": {},
   "outputs": [],
   "source": [
    "style_function = lambda x: {'fillColor': '#ffffff', \n",
    "                            'color':'#000000', \n",
    "                            'fillOpacity': 0.1, \n",
    "                            'weight': 0.1}\n",
    "highlight_function = lambda x: {'fillColor': '#000000', \n",
    "                                'color':'#000000', \n",
    "                                'fillOpacity': 0.50, \n",
    "                                'weight': 0.1}\n",
    "\n",
    "def plot_tariffs(df, variable, variable_description, title):\n",
    "    \n",
    "    classifier = mapclassify.NaturalBreaks(y=df[variable], k=5)\n",
    "    bins = [df[variable].min()] + list(classifier.bins)\n",
    "\n",
    "    m = folium.Map(location=[46.83, 8.13], zoom_start=8, tiles=\"cartodbpositron\")\n",
    "\n",
    "    folium.Choropleth(\n",
    "        geo_data=json.loads(df.to_json()),\n",
    "        data=df,\n",
    "        columns=[\"municipality\", variable],\n",
    "        key_on=\"feature.properties.municipality\",\n",
    "        fill_color=\"YlGn\",\n",
    "        line_opacity=0,\n",
    "        fill_opacity=1,\n",
    "        bins=bins,\n",
    "        reset=True,\n",
    "        legend_name=variable_description,\n",
    "    ).add_to(m)\n",
    "\n",
    "    hover = folium.features.GeoJson(\n",
    "        dff,\n",
    "        style_function=style_function, \n",
    "        control=False,\n",
    "        highlight_function=highlight_function, \n",
    "        tooltip=folium.features.GeoJsonTooltip(\n",
    "            fields=['municipality', variable],\n",
    "            aliases=['Municipality: ', variable_description + \": \"],\n",
    "            style=(\"background-color: white; color: #333333; font-family: arial; font-size: 12px; padding: 10px;\") \n",
    "        )\n",
    "    )\n",
    "\n",
    "    folium.LayerControl().add_to(m)\n",
    "    m.add_child(hover)\n",
    "    m.keep_in_front(hover)\n",
    "    \n",
    "    title_html = '''<h3 align=\"center\" style=\"font-size:16px\"><b>{}</b></h3>'''.format(title)   \n",
    "    m.get_root().html.add_child(folium.Element(title_html))\n",
    "\n",
    "    return m"
   ]
  },
  {
   "cell_type": "code",
   "execution_count": null,
   "id": "023313f4",
   "metadata": {},
   "outputs": [],
   "source": [
    "category = \"H2\"\n",
    "plotting_df = join[join.category == category]\n",
    "plot_tariffs(plotting_df, \"monthly_bill\", \"Average monthly bill [CHF]\", cat2description[category])"
   ]
  },
  {
   "cell_type": "code",
   "execution_count": null,
   "id": "5e596db8",
   "metadata": {},
   "outputs": [],
   "source": [
    "category = \"C2\"\n",
    "plotting_df = join[join.category == \"C2\"]\n",
    "plot_tariffs(plotting_df, \"monthly_bill\", \"Average monthly bill [CHF]\", cat2description[category])"
   ]
  },
  {
   "cell_type": "markdown",
   "id": "c1e81368",
   "metadata": {},
   "source": [
    "## Prices across regions and tariffs "
   ]
  },
  {
   "cell_type": "code",
   "execution_count": null,
   "id": "b9d32e50",
   "metadata": {},
   "outputs": [],
   "source": [
    "cols = 2\n",
    "\n",
    "titles = {\"C1\": \"8 000 kWh/year\\nSmall company\", \"C7\": \"1 500 000 kWh/year\\nBig company with own transformator\"}\n",
    "categories = list(titles.keys())\n",
    "fig, axs = plt.subplots(1, cols, figsize=(20,8))\n",
    "\n",
    "for col in range(cols):\n",
    "    cat = categories[col]\n",
    "    plotting_df = join[join.category == cat]\n",
    "    plotting_df.plot(ax=axs[col], column=\"monthly_bill\", cmap=\"GnBu\", scheme=\"Natural_Breaks\", k=5, legend=True, legend_kwds={\"fmt\": \"{:.0f}\"})\n",
    "    axs[col].set_axis_off()\n",
    "    axs[col].set_title(titles[cat])\n",
    "        \n",
    "fig.suptitle(\"Average monthly bill for enterprises\", fontsize=24)\n",
    "fig.show()"
   ]
  },
  {
   "cell_type": "code",
   "execution_count": null,
   "id": "bba9fd5c",
   "metadata": {},
   "outputs": [],
   "source": [
    "cols = 2\n",
    "\n",
    "titles = {\"H1\": \"1 600 kWh/year\\n2-room appartment\", \"H5\": \"7 500 kW/year\\n5-room house\"}\n",
    "categories = list(titles.keys())\n",
    "fig, axs = plt.subplots(1, cols, figsize=(20,8))\n",
    "\n",
    "for col in range(cols):\n",
    "    cat = categories[col]\n",
    "    plotting_df = join[join.category == cat]\n",
    "    plotting_df.plot(ax=axs[col], column=\"monthly_bill\", cmap=\"YlGn\", scheme=\"Natural_Breaks\", k=5, legend=True, legend_kwds={\"fmt\": \"{:.0f}\"})\n",
    "    axs[col].set_axis_off()\n",
    "    axs[col].set_title(titles[cat])\n",
    "        \n",
    "fig.suptitle(\"Average monthly bill for households\", fontsize=24)\n",
    "fig.show()"
   ]
  },
  {
   "cell_type": "markdown",
   "id": "a3e08884",
   "metadata": {},
   "source": [
    "## Competition between energy providers\n",
    "\n",
    "These municipalities have more than one electricity provider"
   ]
  },
  {
   "cell_type": "code",
   "execution_count": null,
   "id": "264086e9",
   "metadata": {},
   "outputs": [],
   "source": [
    "query = \"\"\"\n",
    "PREFIX cube: <https://cube.link/>\n",
    "PREFIX elcom: <https://energy.ld.admin.ch/elcom/electricityprice/dimension/>\n",
    "PREFIX schema: <http://schema.org/>\n",
    "\n",
    "SELECT ?municipality_id (MAX(?providers) AS ?providers)\n",
    "FROM <https://lindas.admin.ch/elcom/electricityprice>\n",
    "WHERE {\n",
    "  SELECT ?municipality_id ?category (COUNT(*) AS ?providers)\n",
    "\n",
    "  WHERE {\n",
    "      <https://energy.ld.admin.ch/elcom/electricityprice/observation/> cube:observation ?observation.\n",
    "\n",
    "      ?observation\n",
    "        elcom:category/schema:name ?category;\n",
    "        elcom:municipality ?municipality_id;\n",
    "        elcom:period \"2020\"^^<http://www.w3.org/2001/XMLSchema#gYear>;\n",
    "        elcom:product <https://energy.ld.admin.ch/elcom/electricityprice/product/standard>;\n",
    "        elcom:energy ?energy.\n",
    "  }\n",
    "  GROUP BY ?municipality_id ?category\n",
    "  HAVING (COUNT(*) > 1)\n",
    "}\n",
    "GROUP BY ?municipality_id\n",
    "\"\"\"\n",
    "df = sparql.send_query(query)\n",
    "df.head()"
   ]
  },
  {
   "cell_type": "markdown",
   "id": "f6ec472c",
   "metadata": {},
   "source": [
    "Let's get boundaries for these municipalities"
   ]
  },
  {
   "cell_type": "code",
   "execution_count": null,
   "id": "53b5a2ad",
   "metadata": {},
   "outputs": [],
   "source": [
    "join2 = pd.merge(communes[[\"municipality_id\", \"municipality\", \"population\", \"boundary\"]], df, how=\"outer\", on=\"municipality_id\").fillna(1)\n",
    "join2.head()"
   ]
  },
  {
   "cell_type": "code",
   "execution_count": null,
   "id": "9c9a5a42",
   "metadata": {},
   "outputs": [],
   "source": [
    "join2.providers = join2.providers.astype(int).astype(str)\n",
    "join2 = join2.set_index(\"municipality\")\n",
    "data = json.loads(join2.to_json())"
   ]
  },
  {
   "cell_type": "code",
   "execution_count": null,
   "id": "e994795e",
   "metadata": {},
   "outputs": [],
   "source": [
    "def num2color(value, minimum, maximum):\n",
    "    return mpl.colors.rgb2hex(cm.plasma((value-minimum)/maximum))\n",
    "    \n",
    "providers = join2.providers.unique()\n",
    "colormap = {i: num2color(int(i), 1, len(providers)-1) for i in providers}"
   ]
  },
  {
   "cell_type": "code",
   "execution_count": null,
   "id": "f636827e",
   "metadata": {},
   "outputs": [],
   "source": [
    "fig = px.choropleth(join2, geojson=data, locations=join2.index, \n",
    "                    color=\"providers\",\n",
    "                    color_discrete_map=colormap,\n",
    "                    projection=\"transverse mercator\",\n",
    "                    hover_name=join2.index,\n",
    "                    #hover_data={\"buckets\": False},\n",
    "                    labels={\"providers\": \"Electricity providers\"})\n",
    "fig.update_geos(fitbounds=\"locations\", visible=False)\n",
    "fig.update_layout(margin={\"r\":0,\"l\":0,\"b\":0})\n",
    "fig.update_traces(marker_line_width=0)\n",
    "fig.show()"
   ]
  },
  {
   "cell_type": "markdown",
   "id": "1e4c1d8d",
   "metadata": {},
   "source": [
    "### Grid costs and population density \n",
    "=> which region is the most expensive to maintain\n",
    "Does that correlate with area?"
   ]
  },
  {
   "cell_type": "code",
   "execution_count": null,
   "id": "20fdc464",
   "metadata": {},
   "outputs": [],
   "source": [
    "join[\"hectares\"] = join.to_crs(epsg=3035).area/10000 # In hectares\n",
    "join[\"population_density\"] = join[\"population\"]/join[\"hectares\"]\n",
    "join.head(3)"
   ]
  },
  {
   "cell_type": "code",
   "execution_count": null,
   "id": "ccac1f32",
   "metadata": {},
   "outputs": [],
   "source": [
    "var = \"monthly_bill\"\n",
    "dff = join[join.category == \"H1\"][[\"population\", var]]\n",
    "dff[var] = dff[var].round(2)\n",
    "\n",
    "dff = dff.groupby([var]).sum().reset_index()\n",
    "dff[\"frequency\"] = dff[\"population\"]/dff[\"population\"].sum()*100\n",
    "\n",
    "dff.head()"
   ]
  },
  {
   "cell_type": "code",
   "execution_count": null,
   "id": "bcb52946",
   "metadata": {},
   "outputs": [],
   "source": [
    "# Relationship between grid costs, and population density\n",
    "dff = join[join.category == \"C1\"]\n",
    "\n",
    "fig = px.scatter(dff, y=\"grid\", x=\"population_density\", hover_data=[\"municipality\"],\n",
    "                labels={\n",
    "                     \"population_density\": \"Inbahitants per ha\",\n",
    "                     \"grid\": \"Grid costs per kWh\"})\n",
    "fig.show()"
   ]
  },
  {
   "cell_type": "markdown",
   "id": "1e68de95",
   "metadata": {},
   "source": [
    "## Free grid access"
   ]
  },
  {
   "cell_type": "code",
   "execution_count": null,
   "id": "e2dd29be",
   "metadata": {},
   "outputs": [],
   "source": [
    "join = join.assign(pays_grid=lambda x: x.grid!=0, \n",
    "                   pays_aidfee=lambda x: x.aidfee!=0,\n",
    "                   pays_energy=lambda x: x.energy!=0)\n",
    "\n",
    "join.head(3)"
   ]
  },
  {
   "cell_type": "code",
   "execution_count": null,
   "id": "52490951",
   "metadata": {},
   "outputs": [],
   "source": [
    "df = join[join.category==\"C1\"]\n",
    "df = df.set_index(\"municipality\")\n",
    "data = json.loads(df.to_json())"
   ]
  },
  {
   "cell_type": "code",
   "execution_count": null,
   "id": "0d722e77",
   "metadata": {},
   "outputs": [],
   "source": [
    "fig = px.choropleth(df, geojson=data, locations=df.index, \n",
    "                    color=\"pays_grid\",\n",
    "                    projection=\"transverse mercator\",\n",
    "                    hover_name=df.index,\n",
    "                    #hover_data={\"buckets\": False},\n",
    "                    labels={\"pays_for_grid\": \"Paid grid usage\"})\n",
    "fig.update_geos(fitbounds=\"locations\", visible=False)\n",
    "fig.update_layout(margin={\"r\":0,\"l\":0,\"b\":0})\n",
    "fig.update_traces(marker_line_width=0)\n",
    "fig.show()"
   ]
  },
  {
   "cell_type": "code",
   "execution_count": null,
   "id": "d734aad7",
   "metadata": {},
   "outputs": [],
   "source": [
    "# These communes do not pay for grid\n",
    "temp = join[[\"municipality_id\", \"municipality\", \"pays_grid\", \"population\"]].groupby([\"municipality_id\", \"municipality\", \"population\"]).all().reset_index()\n",
    "free_grid_pop = temp[(~temp.pays_grid)][\"population\"].sum()\n",
    "temp[(~temp.pays_grid)]"
   ]
  },
  {
   "cell_type": "markdown",
   "id": "af04f67c",
   "metadata": {},
   "source": [
    "## Free energy"
   ]
  },
  {
   "cell_type": "code",
   "execution_count": null,
   "id": "00598b22",
   "metadata": {},
   "outputs": [],
   "source": [
    "# These communes do not pay for energy\n",
    "join[\"has_free_energy\"] = ~join.pays_energy\n",
    "temp = join[[\"municipality_id\", \"municipality\", \"has_free_energy\", \"population\"]].groupby([\"municipality_id\", \"municipality\", \"population\"]).all().reset_index()\n",
    "temp[temp.has_free_energy]"
   ]
  },
  {
   "cell_type": "markdown",
   "id": "2880ab37",
   "metadata": {},
   "source": [
    "Ok. There is no comune with free electricity"
   ]
  },
  {
   "cell_type": "markdown",
   "id": "38706089",
   "metadata": {},
   "source": [
    "## Aidfee waiver"
   ]
  },
  {
   "cell_type": "code",
   "execution_count": null,
   "id": "6d7e82f9",
   "metadata": {},
   "outputs": [],
   "source": [
    "fig = px.choropleth(df, geojson=data, locations=df.index, \n",
    "                    color=\"pays_aidfee\",\n",
    "                    projection=\"transverse mercator\",\n",
    "                    hover_name=df.index,\n",
    "                    labels={\"pays_aidfee\": \"Pays aidfee\"},\n",
    "                    color_discrete_map={True: \"#00CC96\", False: \"#AB63FA\"}\n",
    "                   )\n",
    "fig.update_geos(fitbounds=\"locations\", visible=False)\n",
    "fig.update_layout(margin={\"r\":0,\"l\":0,\"b\":0})\n",
    "fig.update_traces(marker_line_width=0)\n",
    "fig.show()"
   ]
  },
  {
   "cell_type": "markdown",
   "id": "4f6ab3e1",
   "metadata": {},
   "source": [
    "How many people profit from it?"
   ]
  },
  {
   "cell_type": "code",
   "execution_count": null,
   "id": "5e028b5d",
   "metadata": {},
   "outputs": [],
   "source": [
    "# These communes do not pay aidfee\n",
    "temp = join[[\"municipality_id\", \"municipality\", \"pays_aidfee\", \"population\"]].groupby([\"municipality_id\", \"municipality\", \"population\"]).all().reset_index()\n",
    "free_aidfee_pop = temp[(~temp.pays_aidfee)][\"population\"].sum()\n",
    "\n",
    "temp[(~temp.pays_aidfee)]"
   ]
  },
  {
   "cell_type": "markdown",
   "id": "5c7e522f",
   "metadata": {},
   "source": [
    "## How many people benefit from it?"
   ]
  },
  {
   "cell_type": "code",
   "execution_count": null,
   "id": "d88181c4",
   "metadata": {},
   "outputs": [],
   "source": [
    "fig = make_subplots(rows=1, cols=2, subplot_titles=[\"Grid access\", \"Aidfee\"], specs=[[{\"type\": \"pie\"}, {\"type\": \"pie\"}]])\n",
    "\n",
    "fig.add_trace(go.Pie(\n",
    "     values=[free_grid_pop,total_pop-free_grid_pop],\n",
    "     labels=[\"Not paying\", \"Paying\"],\n",
    "     name=\"Grid access\"), \n",
    "     row=1, col=1)\n",
    "\n",
    "fig.add_trace(go.Pie(\n",
    "     values=[free_aidfee_pop,total_pop-free_aidfee_pop],\n",
    "     labels=[\"Not paying\", \"Paying\"],\n",
    "     name=\"Aidfee\"),\n",
    "     row=1, col=2)\n",
    "\n",
    "fig.update_annotations(yshift=-280)\n",
    "fig.update_layout(height=400, title={\"text\": \"Population benefiting from free tariffs\", \"x\": 0.5})\n",
    "fig.show()\n"
   ]
  },
  {
   "cell_type": "markdown",
   "id": "1bfed0d6",
   "metadata": {},
   "source": [
    "## Companies benefiting from free grid "
   ]
  },
  {
   "cell_type": "markdown",
   "id": "980fe995",
   "metadata": {},
   "source": [
    "Are there any companies that profit from it?\n",
    "\n",
    "Zefix: find companies registered in this region (and hence entitiled to free elencticity)\n",
    "Use only AGs\n",
    "\n",
    "Switzerland has around 2500 enterprises with its won transformators => they could benefit from these locations"
   ]
  },
  {
   "cell_type": "code",
   "execution_count": null,
   "id": "e5656e3c",
   "metadata": {},
   "outputs": [],
   "source": [
    "query = \"\"\"\n",
    "SELECT ?company ?type ?company_iri\n",
    "WHERE {\n",
    "    ?company_iri a <https://schema.ld.admin.ch/ZefixOrganisation>.\n",
    "    ?company_iri <http://schema.org/legalName> ?company.\n",
    "    ?company_iri <https://schema.ld.admin.ch/municipality> <https://ld.admin.ch/municipality/3695>.\n",
    "    ?company_iri <http://schema.org/additionalType>/<http://schema.org/name> ?type .\n",
    "  \n",
    "  FILTER(LANG(?type) = \"de\")\n",
    "}\n",
    "ORDER BY ?type ?company\n",
    "\"\"\"\n",
    "df = sparql.send_query(query)\n",
    "df.head(7)"
   ]
  },
  {
   "cell_type": "code",
   "execution_count": null,
   "id": "8f7059e6",
   "metadata": {},
   "outputs": [],
   "source": [
    "municipalities_free_energy = join[\"municipality_id\"][~(join.pays_energy)].unique()\n",
    "\n",
    "query = \"\"\"\n",
    "SELECT ?municipality ?company ?company_iri \n",
    "WHERE {{\n",
    "\t?company_iri a <https://schema.ld.admin.ch/ZefixOrganisation>.\n",
    "  \t?company_iri <http://schema.org/legalName> ?company.\n",
    "    ?company_iri <https://schema.ld.admin.ch/municipality> ?municipality_iri.\n",
    "    ?company_iri <http://schema.org/additionalType> <https://ld.admin.ch/ech/97/legalforms/0106> .\n",
    "  \n",
    "  ?municipality_iri <http://schema.org/name> ?municipality.\n",
    "  \n",
    "  FILTER(?municipality_iri IN({}))\n",
    "  \n",
    "}}\n",
    "ORDER BY ?municipality ?company\n",
    "\"\"\".format(\"<\" + \">,<\".join(municipalities_free_energy) + \">\")\n",
    "df = sparql.send_query(query)\n",
    "df"
   ]
  },
  {
   "cell_type": "markdown",
   "id": "e3e88456",
   "metadata": {},
   "source": [
    "## Join DFs"
   ]
  },
  {
   "cell_type": "code",
   "execution_count": null,
   "id": "dc139676",
   "metadata": {},
   "outputs": [],
   "source": [
    "query = \"\"\"\n",
    "PREFIX cube: <https://cube.link/>\n",
    "PREFIX elcom: <https://energy.ld.admin.ch/elcom/electricityprice/dimension/>\n",
    "PREFIX schema: <http://schema.org/>\n",
    "PREFIX dct: <http://purl.org/dc/terms/>\n",
    "PREFIX geonames: <http://www.geonames.org/ontology#>\n",
    "PREFIX geosparql: <http://www.opengis.net/ont/geosparql#>\n",
    "\n",
    "SELECT ?municipality ?category ?energy ?grid (?community_fees + ?aidfee as ?taxes) ?fixcosts ?variablecosts \n",
    "FROM <https://lindas.admin.ch/elcom/electricityprice>\n",
    "WHERE {\n",
    "    <https://energy.ld.admin.ch/elcom/electricityprice/observation/> cube:observation ?observation.\n",
    "    \n",
    "    ?observation\n",
    "      elcom:category <https://energy.ld.admin.ch/elcom/electricityprice/category/H1>;\n",
    "      elcom:municipality ?muni_iri;\n",
    "      elcom:period \"2020\"^^<http://www.w3.org/2001/XMLSchema#gYear>;\n",
    "      elcom:product <https://energy.ld.admin.ch/elcom/electricityprice/product/standard>;\n",
    "      elcom:fixcosts ?fixcosts;\n",
    "      elcom:total ?variablecosts;\n",
    "      elcom:gridusage ?grid;\n",
    "      elcom:energy ?energy;\n",
    "      elcom:charge ?community_fees;\n",
    "      elcom:aidfee ?aidfee.\n",
    "    \n",
    "    BIND(IRI(REPLACE(STR(?muni_iri),\"https://ld.admin.ch/\", \"https://ld.geo.admin.ch/boundaries/\")) AS ?municipality) .\n",
    "  \n",
    "    {SERVICE <https://ld.geo.admin.ch/query> {\n",
    "      SELECT ?municipality ?name ?population ?polygon WHERE {\n",
    "        \n",
    "        ?municipality dct:hasVersion ?version ;\n",
    "                      geonames:featureCode geonames:A.ADM3 .\n",
    "        \n",
    "        ?version schema:validUntil \"2020-12-31\"^^<http://www.w3.org/2001/XMLSchema#date>;\n",
    "             geonames:population ?population ;\n",
    "             schema:name ?name .\n",
    "        \n",
    "        ?version geosparql:hasGeometry/geosparql:asWKT ?polygon\n",
    "    }\n",
    "    }}\n",
    "}\n",
    "LIMIT 500\n",
    "\"\"\"\n",
    "\n",
    "#df = sparql.send_query(query)\n",
    "#df.head()"
   ]
  }
 ],
 "metadata": {
  "kernelspec": {
   "display_name": "zazuko",
   "language": "python",
   "name": "zazuko"
  },
  "language_info": {
   "codemirror_mode": {
    "name": "ipython",
    "version": 3
   },
   "file_extension": ".py",
   "mimetype": "text/x-python",
   "name": "python",
   "nbconvert_exporter": "python",
   "pygments_lexer": "ipython3",
   "version": "3.9.0"
  }
 },
 "nbformat": 4,
 "nbformat_minor": 5
}
