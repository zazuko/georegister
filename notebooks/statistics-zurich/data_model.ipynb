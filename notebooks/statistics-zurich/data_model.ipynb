{
 "cells": [
  {
   "cell_type": "markdown",
   "metadata": {},
   "source": [
    "<div class=\"notebook-buttons\" style=\"display:flex; padding-top: 5rem;padding-bottom: 2.5rem;line-height: 2.15;\">\n",
    "    <a href=\"https://raw.githubusercontent.com/zazuko/notebooks/master/notebooks/statistics-zurich/data_model.ipynb\" download>\n",
    "        <div id=\"download-link\" style=\"display: flex;padding-right: 3.5rem;padding-bottom: 0.625rem;border-bottom: 1px solid #ececed; height: auto;align-items: center;\">\n",
    "            <img class=\"call-to-action-img\" src=\"img/download.svg\" width=\"22\" height=\"30\" style=\"margin-right: 10px;margin-top: auto;margin-bottom: auto;\">\n",
    "            <div class=\"call-to-action-txt\">Download Notebook</div>\n",
    "        </div>\n",
    "    </a>\n",
    "    <a href=\"https://github.com/zazuko/notebooks/blob/master/notebooks/statistics-zurich/data_model.ipynb\">\n",
    "        <div id=\"github-link\" style=\"display: flex;padding-right: 3.5rem;padding-bottom: 0.625rem;border-bottom: 1px solid #ececed; height: auto;align-items: center;\">\n",
    "            <img class=\"call-to-action-img\" src=\"img/github.svg\" width=\"25\" height=\"30\" style=\"margin-right: 10px;margin-top: auto;margin-bottom: auto;\">\n",
    "            <div class=\"call-to-action-txt\">View on GitHub</div>\n",
    "        </div>\n",
    "    </a>\n",
    "</div>\n",
    "\n",
    "# Data model for Zürich datasets \n",
    "\n",
    "The Zürich Statistical Office collects data on the city and its residents. This data is published as [Linked Data](https://en.wikipedia.org/wiki/Linked_data). \n",
    "\n",
    "In this tutorial, we will **explain the linked data model** behind it. Mainly, we will guide you through the data structure. The tutorial will show you available datasets, and the shape they take. We will look into queries explaining the data structure as well as available dimensions."
   ]
  },
  {
   "cell_type": "markdown",
   "metadata": {},
   "source": [
    "[1. Graphs](#Graphs)    \n",
    "[2. Graph by Zürich Statistical Office](#Graph-by-Zürich-Statistical-Office)    \n",
    "[3. Data cubes](#Data-cubes)  \n",
    "[4. Observation set](#Observation-set)  \n",
    "[5. Observations](#Observations)  \n",
    "[6. Data slices](#Data-slices)  \n",
    "[7. SPEX](#SPEX)  \n"
   ]
  },
  {
   "cell_type": "markdown",
   "metadata": {},
   "source": [
    "### SPARQL endpoint\n",
    "\n",
    "Data by the Zürich Statistical Office is published as Linked Data. It can be accessed with [SPARQL queries](https://www.w3.org/TR/rdf-sparql-query/). You can send queries using HTTP requests. The API endpoint is **[https://ld.stadt-zuerich.ch/query/](https://ld.stadt-zuerich.ch/query/).**  \n",
    "  \n",
    "  \n",
    "We use the `SPARQL` kernel in a jupyter notebook to communicate with the database (you may need to configure this via menu Kernel -> Change kernel -> SPARQL). First, let's configure the endpoint."
   ]
  },
  {
   "cell_type": "code",
   "execution_count": null,
   "metadata": {},
   "outputs": [],
   "source": [
    "#Params\n",
    "%endpoint https://ld.stadt-zuerich.ch/query\n",
    "%auth basic public public\n",
    "%display table\n",
    "\n",
    "%show 50"
   ]
  },
  {
   "cell_type": "markdown",
   "metadata": {},
   "source": [
    "## Graphs\n",
    "\n",
    "One endpoint can contain multiple [named graphs](https://en.wikipedia.org/wiki/Named_graph). \n",
    " \n",
    " \n",
    "You can see what graphs are available using `WHERE` and `GRAPH` statements. "
   ]
  },
  {
   "cell_type": "code",
   "execution_count": null,
   "metadata": {},
   "outputs": [],
   "source": [
    "# List graphs in endpoint\n",
    "SELECT DISTINCT ?graphs \n",
    "WHERE {\n",
    "  GRAPH ?graphs {\n",
    "      ?s ?p ?o;\n",
    "  }\n",
    "}"
   ]
  },
  {
   "cell_type": "markdown",
   "metadata": {},
   "source": [
    "These graphs have potentilly nothing in common, they are simply stored in the same database. \n",
    "\n",
    "Here, we have one endpoint storing information on subject as diverse as the train timetable, electricity prices, or animal diseases:\n",
    "\n",
    "* trains timetable (https://lindas.admin.ch/sbb/setactual)\n",
    "* electricity prices (https://lindas.admin.ch/elcom/electricityprice)\n",
    "* animal diseases (https://linked.opendata.swiss/fsvo/animalpest)\n",
    "\n",
    "All those graphs can be accessed from the same SPARQL endpoint."
   ]
  },
  {
   "cell_type": "markdown",
   "metadata": {},
   "source": [
    "## Graph by Zürich Statistical Office"
   ]
  },
  {
   "cell_type": "markdown",
   "metadata": {},
   "source": [
    "Datasets from the Zürich Statistical Office are published in the following named graph: `<https://lindas.admin.ch/stadtzuerich/stat>`\n",
    "\n",
    "You can limit your queries to one named graph using `WHERE` and `FROM` statements. "
   ]
  },
  {
   "cell_type": "code",
   "execution_count": null,
   "metadata": {
    "scrolled": true
   },
   "outputs": [],
   "source": [
    "# List random triples in the graph\n",
    "\n",
    "SELECT *\n",
    "FROM <https://lindas.admin.ch/stadtzuerich/stat>\n",
    "WHERE {?s ?p ?o}\n",
    "LIMIT 10\n",
    "OFFSET 100"
   ]
  },
  {
   "cell_type": "markdown",
   "metadata": {},
   "source": [
    "## Data cubes\n",
    "Datasets published by Zürich Statistial Office are stored as [data cubes](https://en.wikipedia.org/wiki/OLAP_cube). Let's check the cube definition in its [documentation](https://cube.link/):\n",
    "\n",
    "**Cube**  \n",
    "*Represents the entry point for a collection of observations, conforming to some common dimensional structure.*\n",
    "\n",
    "\n",
    "We can find all data cubes by defining `<https://cube.link/Cube>` as object."
   ]
  },
  {
   "cell_type": "code",
   "execution_count": null,
   "metadata": {},
   "outputs": [],
   "source": [
    "# List all data cubes\n",
    "\n",
    "SELECT ?cubes\n",
    "FROM <https://lindas.admin.ch/stadtzuerich/stat>\n",
    "WHERE {\n",
    "  ?cubes a <https://cube.link/Cube> .\n",
    "}"
   ]
  },
  {
   "cell_type": "markdown",
   "metadata": {},
   "source": [
    "All cubes have the same data structure. This means we can write very similar queries to get data from different cubes.\n",
    "\n",
    "Data cubes have the following properties:"
   ]
  },
  {
   "cell_type": "code",
   "execution_count": null,
   "metadata": {},
   "outputs": [],
   "source": [
    "# Cube properties\n",
    "\n",
    "SELECT DISTINCT ?properties\n",
    "FROM <https://lindas.admin.ch/stadtzuerich/stat>\n",
    "WHERE {\n",
    "  ?s a <https://cube.link/Cube> ;\n",
    "    ?properties ?o.\n",
    "}"
   ]
  },
  {
   "cell_type": "markdown",
   "metadata": {},
   "source": [
    "Let's learn more about available data cubes. We can access cube description using `<http://schema.org/name>` property. We will also get its id using `<http://schema.org/identifier>`. By defining schema and cube as `PREFIX`, we can save some typing."
   ]
  },
  {
   "cell_type": "code",
   "execution_count": null,
   "metadata": {},
   "outputs": [],
   "source": [
    "PREFIX schema: <http://schema.org/>\n",
    "PREFIX cube: <https://cube.link/>\n",
    "\n",
    "SELECT *\n",
    "FROM <https://lindas.admin.ch/stadtzuerich/stat>\n",
    "WHERE {\n",
    "  ?cube a cube:Cube ;\n",
    "       schema:name ?description ;\n",
    "       schema:identifier ?id .\n",
    "} "
   ]
  },
  {
   "cell_type": "markdown",
   "metadata": {},
   "source": [
    "You can see that some cubes have more than one description."
   ]
  },
  {
   "cell_type": "markdown",
   "metadata": {},
   "source": [
    "## Observation set\n",
    "\n",
    "Observations in data cubes are stored in observation set (`<https://cube.link/observationSet>`). Let's check the observationSet definition in its [documentation](https://cube.link/):\n",
    "\n",
    "**observationSet**  \n",
    "*Connects a cube with a set of observations.*\n",
    "\n",
    "\n",
    "We can find all observations in a cube using `cube:observationSet/cube:observation` as predicate. \n",
    "Let's query all observations in `<https://ld.stadt-zuerich.ch/statistics/BEW-HEL-SEX>` cube."
   ]
  },
  {
   "cell_type": "code",
   "execution_count": null,
   "metadata": {},
   "outputs": [],
   "source": [
    "# List all observations in a cube\n",
    "\n",
    "PREFIX schema: <http://schema.org/>\n",
    "PREFIX cube: <https://cube.link/>\n",
    "\n",
    "SELECT ?obs\n",
    "FROM <https://lindas.admin.ch/stadtzuerich/stat>\n",
    "WHERE {\n",
    "  <https://ld.stadt-zuerich.ch/statistics/BEW-HEL-SEX> a cube:Cube;\n",
    "           cube:observationSet/cube:observation ?obs.\n",
    "}\n",
    "LIMIT 10"
   ]
  },
  {
   "cell_type": "markdown",
   "metadata": {},
   "source": [
    "We can count the number of observations using `COUNT` statement"
   ]
  },
  {
   "cell_type": "code",
   "execution_count": null,
   "metadata": {},
   "outputs": [],
   "source": [
    "# Count observations in a data cube\n",
    "\n",
    "PREFIX schema: <http://schema.org/>\n",
    "PREFIX cube: <https://cube.link/>\n",
    "\n",
    "SELECT (COUNT(?obs) AS ?count)\n",
    "FROM <https://lindas.admin.ch/stadtzuerich/stat>\n",
    "WHERE {\n",
    "  <https://ld.stadt-zuerich.ch/statistics/BEW-HEL-SEX> a cube:Cube;\n",
    "           cube:observationSet/cube:observation ?obs.\n",
    "    # Equivalent to:\n",
    "    #       cube:observationSet ?observationSet.\n",
    "    #?observationSet cube:observation ?obs.\n",
    "}"
   ]
  },
  {
   "cell_type": "markdown",
   "metadata": {},
   "source": [
    "So in `BEW-HEL-SEX` cube we have almost 10k observations about the population of Zürich! "
   ]
  },
  {
   "cell_type": "markdown",
   "metadata": {},
   "source": [
    "## Observations\n",
    "\n",
    "Let's take a closer look at the observations. We can get all observation properties using this query:"
   ]
  },
  {
   "cell_type": "code",
   "execution_count": null,
   "metadata": {},
   "outputs": [],
   "source": [
    "# Observation properties\n",
    "\n",
    "PREFIX schema: <http://schema.org/>\n",
    "PREFIX cube: <https://cube.link/>\n",
    "\n",
    "SELECT DISTINCT ?obsProperty\n",
    "FROM <https://lindas.admin.ch/stadtzuerich/stat>\n",
    "WHERE {\n",
    "  ?dataset a cube:Cube;\n",
    "             cube:observationSet/cube:observation ?observation. \n",
    "    ?observation ?obsProperty ?obsVal.\n",
    "}"
   ]
  },
  {
   "cell_type": "markdown",
   "metadata": {},
   "source": [
    "Quite a bit! Now, not every dataset will have all those properties. "
   ]
  },
  {
   "cell_type": "markdown",
   "metadata": {},
   "source": [
    "Let's get a list of properties for the `<https://ld.stadt-zuerich.ch/statistics/BEW-HEL-SEX>` data cube. We will also get its labels using `schema:name`, and descrption using `schema:description`.\n",
    "\n",
    "Since not all properties have a description, we will use the `OPTIONAL` statement to query it."
   ]
  },
  {
   "cell_type": "code",
   "execution_count": null,
   "metadata": {},
   "outputs": [],
   "source": [
    "PREFIX schema: <http://schema.org/>\n",
    "PREFIX cube: <https://cube.link/>\n",
    "\n",
    "SELECT DISTINCT ?obsProperty ?label ?description \n",
    "FROM <https://lindas.admin.ch/stadtzuerich/stat>\n",
    "WHERE {\n",
    "  <https://ld.stadt-zuerich.ch/statistics/BEW-HEL-SEX> a cube:Cube;\n",
    "             cube:observationSet/cube:observation ?observation. \n",
    "    ?observation ?obsProperty ?obsVal.\n",
    "    ?obsProperty schema:name ?label .\n",
    "    OPTIONAL {\n",
    "        ?obsProperty schema:description ?description .\n",
    "    }\n",
    "}"
   ]
  },
  {
   "cell_type": "markdown",
   "metadata": {},
   "source": [
    "We can see that `BEW-HEL-SEX` data cube contains data on the population across:\n",
    "* time (german: *Zeit*)\n",
    "* place (german: *Raum*)\n",
    "* gender (german: *Geschlecht*)\n",
    "* origin (german: *Heimatland*)"
   ]
  },
  {
   "cell_type": "markdown",
   "metadata": {},
   "source": [
    "Knowing properties, we can directlty query the measurements. Now, we are able to find the actual data: number of inhabitants across time, place, gender, and origin.\n",
    "\n",
    "We will find the measurements using `<https://ld.stadt-zuerich.ch/statistics/measure/BEW>` as the observation's property. We will also the cube's dimensions using:\n",
    "* `<https://ld.stadt-zuerich.ch/statistics/property/RAUM>` for place \n",
    "* `<https://ld.stadt-zuerich.ch/statistics/property/TIME>` for time \n",
    "* `<https://ld.stadt-zuerich.ch/statistics/property/HEL>` for origin\n",
    "* `<https://ld.stadt-zuerich.ch/statistics/property/SEX>` for gender\n",
    "\n",
    "And again, making use of `PREFIX` makes the query more readable."
   ]
  },
  {
   "cell_type": "code",
   "execution_count": null,
   "metadata": {},
   "outputs": [],
   "source": [
    "PREFIX schema: <http://schema.org/>\n",
    "PREFIX cube: <https://cube.link/>\n",
    "PREFIX property: <https://ld.stadt-zuerich.ch/statistics/property/>\n",
    "\n",
    "SELECT ?time ?place ?origin ?gender ?count\n",
    "FROM <https://lindas.admin.ch/stadtzuerich/stat>\n",
    "WHERE {\n",
    "  <https://ld.stadt-zuerich.ch/statistics/BEW-HEL-SEX> a cube:Cube;\n",
    "             cube:observationSet/cube:observation ?obs. \n",
    "    \n",
    "    ?obs <https://ld.stadt-zuerich.ch/statistics/measure/BEW> ?count ;\n",
    "                 property:RAUM ?place ;\n",
    "                 property:TIME ?time ;\n",
    "                 property:HEL ?origin ;\n",
    "                 property:SEX ?gender .\n",
    "    \n",
    "}\n",
    "LIMIT 10"
   ]
  },
  {
   "cell_type": "markdown",
   "metadata": {},
   "source": [
    "To make the output more readable, let's replace the IRIs with the corresponding labels. This can be achieved by using `schema:name` for each property. "
   ]
  },
  {
   "cell_type": "code",
   "execution_count": null,
   "metadata": {},
   "outputs": [],
   "source": [
    "PREFIX schema: <http://schema.org/>\n",
    "PREFIX cube: <https://cube.link/>\n",
    "PREFIX property: <https://ld.stadt-zuerich.ch/statistics/property/>\n",
    "\n",
    "SELECT ?time ?place ?origin ?gender ?count\n",
    "FROM <https://lindas.admin.ch/stadtzuerich/stat>\n",
    "WHERE {\n",
    "  <https://ld.stadt-zuerich.ch/statistics/BEW-HEL-SEX> a cube:Cube;\n",
    "             cube:observationSet/cube:observation ?obs. \n",
    "    \n",
    "    ?obs <https://ld.stadt-zuerich.ch/statistics/measure/BEW> ?count ;\n",
    "                 property:RAUM/schema:name ?place ;\n",
    "                 property:TIME  ?time ;\n",
    "                 property:HEL/schema:name  ?origin ;\n",
    "                 property:SEX/schema:name  ?gender .\n",
    "    \n",
    "}\n",
    "LIMIT 10"
   ]
  },
  {
   "cell_type": "markdown",
   "metadata": {},
   "source": [
    "Volià! We now got all measurements across all dimensions in the `BEW-ALT-SEX` data cube. The data could be further refined, for example by filtering on `gender` or `place`."
   ]
  },
  {
   "cell_type": "markdown",
   "metadata": {},
   "source": [
    "Let's do the same exercise for the `QMP-EIG-HAA-OBJ-ZIM` data cube. \n",
    "\n",
    "First, let's get observations' properties."
   ]
  },
  {
   "cell_type": "code",
   "execution_count": null,
   "metadata": {},
   "outputs": [],
   "source": [
    "PREFIX schema: <http://schema.org/>\n",
    "PREFIX cube: <https://cube.link/>\n",
    "\n",
    "SELECT DISTINCT ?obsProperty ?label ?description \n",
    "FROM <https://lindas.admin.ch/stadtzuerich/stat>\n",
    "WHERE {\n",
    "  <https://ld.stadt-zuerich.ch/statistics/QMP-EIG-HAA-OBJ-ZIM> a cube:Cube;\n",
    "             cube:observationSet/cube:observation ?observation. \n",
    "    ?observation ?obsProperty ?obsVal.\n",
    "    ?obsProperty schema:name ?label .\n",
    "    OPTIONAL {\n",
    "        ?obsProperty schema:description ?description .\n",
    "    }\n",
    "}"
   ]
  },
  {
   "cell_type": "markdown",
   "metadata": {},
   "source": [
    "Now, let's use these properties to query the data."
   ]
  },
  {
   "cell_type": "code",
   "execution_count": null,
   "metadata": {},
   "outputs": [],
   "source": [
    "PREFIX schema: <http://schema.org/>\n",
    "PREFIX cube: <https://cube.link/>\n",
    "PREFIX property: <https://ld.stadt-zuerich.ch/statistics/property/>\n",
    "\n",
    "SELECT ?time ?place ?rooms ?ownership ?haa ?type ?price\n",
    "FROM <https://lindas.admin.ch/stadtzuerich/stat>\n",
    "WHERE {\n",
    "  <https://ld.stadt-zuerich.ch/statistics/QMP-EIG-HAA-OBJ-ZIM> a cube:Cube;\n",
    "             cube:observationSet/cube:observation ?obs . \n",
    "    \n",
    "    ?obs <https://ld.stadt-zuerich.ch/statistics/measure/QMP> ?price ;\n",
    "                 property:TIME  ?time ;\n",
    "                 property:RAUM/schema:name ?place ;\n",
    "                 property:ZIM/schema:name  ?rooms ;\n",
    "                 property:EIG/schema:name  ?ownership ;\n",
    "                 property:HAA/schema:name  ?market ;\n",
    "                 property:OBJ/schema:name  ?type .\n",
    "    \n",
    "}\n",
    "LIMIT 10"
   ]
  },
  {
   "cell_type": "markdown",
   "metadata": {},
   "source": [
    "You can see that some prices come back as zero. Getting an appartment for free is extremely rare in Switzerland. That's presumably a data issue. \n",
    " \n",
    "Let's remove those invalid observations using a `FILTER` statement."
   ]
  },
  {
   "cell_type": "code",
   "execution_count": null,
   "metadata": {},
   "outputs": [],
   "source": [
    "PREFIX schema: <http://schema.org/>\n",
    "PREFIX cube: <https://cube.link/>\n",
    "PREFIX property: <https://ld.stadt-zuerich.ch/statistics/property/>\n",
    "\n",
    "SELECT ?time ?place ?rooms ?ownership ?haa ?type ?price\n",
    "FROM <https://lindas.admin.ch/stadtzuerich/stat>\n",
    "WHERE {\n",
    "  <https://ld.stadt-zuerich.ch/statistics/QMP-EIG-HAA-OBJ-ZIM> a cube:Cube;\n",
    "             cube:observationSet/cube:observation ?obs . \n",
    "    \n",
    "    ?obs <https://ld.stadt-zuerich.ch/statistics/measure/QMP> ?price ;\n",
    "                 property:TIME  ?time ;\n",
    "                 property:RAUM/schema:name ?place ;\n",
    "                 property:ZIM/schema:name  ?rooms ;\n",
    "                 property:EIG/schema:name  ?ownership ;\n",
    "                 property:HAA/schema:name  ?market ;\n",
    "                 property:OBJ/schema:name  ?type .\n",
    "    FILTER (?price > 0)  \n",
    "}\n",
    "LIMIT 10"
   ]
  },
  {
   "cell_type": "markdown",
   "metadata": {},
   "source": [
    "That's better!"
   ]
  },
  {
   "cell_type": "markdown",
   "metadata": {},
   "source": [
    "## Data slices\n",
    "\n",
    "Thus far, we queried all observations from the data cube. Sometimes, you are interested in just some of the dimensions. You can aggregate the results using `GROUP BY` and `SUM` statements.\n",
    "\n",
    "Let's find the total number of people in Zurich accross `property:TIME`. To do this, we sum the remaining dimensions:\n",
    "* `property:RAUM`\n",
    "* `property:HEL`\n",
    "* `property:SEX`  \n",
    "\n",
    "This can be achieved by leaving them out of the `GROUP BY` statement. All unmentioned variables will be aggregated."
   ]
  },
  {
   "cell_type": "code",
   "execution_count": null,
   "metadata": {},
   "outputs": [],
   "source": [
    "PREFIX schema: <http://schema.org/>\n",
    "PREFIX cube: <https://cube.link/>\n",
    "PREFIX property: <https://ld.stadt-zuerich.ch/statistics/property/>\n",
    "\n",
    "SELECT ?time (SUM(?count) AS ?aggCount)\n",
    "FROM <https://lindas.admin.ch/stadtzuerich/stat>\n",
    "WHERE {\n",
    "  <https://ld.stadt-zuerich.ch/statistics/BEW-HEL-SEX> a cube:Cube;\n",
    "             cube:observationSet/cube:observation ?obs. \n",
    "    \n",
    "    ?obs <https://ld.stadt-zuerich.ch/statistics/measure/BEW> ?count ;\n",
    "                 property:TIME  ?time .\n",
    "    \n",
    "}\n",
    "GROUP BY ?time\n",
    "LIMIT 10"
   ]
  },
  {
   "cell_type": "markdown",
   "metadata": {},
   "source": [
    "You can also filter the results to include only one dimension. This can be done by setting the object to the value you are interested in.\n",
    "\n",
    "Let's get the number of female inhabitants over time. First, we will find IRIs for gender."
   ]
  },
  {
   "cell_type": "code",
   "execution_count": null,
   "metadata": {},
   "outputs": [],
   "source": [
    "PREFIX schema: <http://schema.org/>\n",
    "PREFIX cube: <https://cube.link/>\n",
    "PREFIX property: <https://ld.stadt-zuerich.ch/statistics/property/>\n",
    "\n",
    "SELECT DISTINCT ?genderIRI ?gender\n",
    "FROM <https://lindas.admin.ch/stadtzuerich/stat>\n",
    "WHERE {\n",
    "  <https://ld.stadt-zuerich.ch/statistics/BEW-HEL-SEX> a cube:Cube;\n",
    "             cube:observationSet/cube:observation ?obs. \n",
    "    \n",
    "    ?obs property:SEX ?genderIRI.\n",
    "    ?obs property:SEX/schema:name ?gender .\n",
    "    \n",
    "}"
   ]
  },
  {
   "cell_type": "markdown",
   "metadata": {},
   "source": [
    "`<https://ld.stadt-zuerich.ch/statistics/code/SEX0002>` stands for female (german *weiblich*). We will use it to filter observations for female only. \n",
    "\n",
    "In SPARQL, this can be done by setting observation predicate to `property:SEX`, and its object to `<https://ld.stadt-zuerich.ch/statistics/code/SEX0002>`."
   ]
  },
  {
   "cell_type": "code",
   "execution_count": null,
   "metadata": {},
   "outputs": [],
   "source": [
    "PREFIX schema: <http://schema.org/>\n",
    "PREFIX cube: <https://cube.link/>\n",
    "PREFIX property: <https://ld.stadt-zuerich.ch/statistics/property/>\n",
    "\n",
    "SELECT ?time ?place ?origin ?count\n",
    "FROM <https://lindas.admin.ch/stadtzuerich/stat>\n",
    "WHERE {\n",
    "  <https://ld.stadt-zuerich.ch/statistics/BEW-HEL-SEX> a cube:Cube;\n",
    "             cube:observationSet/cube:observation ?obs. \n",
    "    \n",
    "    ?obs <https://ld.stadt-zuerich.ch/statistics/measure/BEW> ?count ;\n",
    "                 property:RAUM/schema:name ?place ;\n",
    "                 property:TIME  ?time ;\n",
    "                 property:HEL/schema:name  ?origin ;\n",
    "                 property:SEX  <https://ld.stadt-zuerich.ch/statistics/code/SEX0002> .\n",
    "    \n",
    "} \n",
    "LIMIT 10"
   ]
  },
  {
   "cell_type": "markdown",
   "metadata": {},
   "source": [
    "Volià, the number of female inhabitants across time, origin, and city district."
   ]
  },
  {
   "cell_type": "markdown",
   "metadata": {},
   "source": [
    "## SPEX\n",
    "\n",
    "There are many ways to learn about the structure of linked data. SPARQL queries may seem dense at first and may take some time to get you to the right place. However, as you get better with SPARQL, they are a great tool to slice data.\n",
    "\n",
    "Another way to discover linked data is [SPEX](https://spex.zazuko.com/#/?url=https%3A%2F%2Fld.stadt-zuerich.ch%2Fquery&graph=https%3A%2F%2Flindas.admin.ch%2Fstadtzuerich%2Fstat%2Fviews&prefixes=wdt%3Ahttp%3A%2F%2Fwww.wikidata.org%2Fprop%2Fdirect%2F&forceIntrospection=false), a web based tool that visualizes the structure of a linked data source.\n",
    "\n",
    "<div align=\"center\"><h3>SPEX</h3></div>\n",
    "<img src=\"img/spex.png\" width=\"600\"/>"
   ]
  }
 ],
 "metadata": {
  "kernelspec": {
   "display_name": "SPARQL",
   "language": "sparql",
   "name": "sparql"
  },
  "language_info": {
   "codemirror_mode": {
    "name": "sparql"
   },
   "mimetype": "application/sparql-query",
   "name": "sparql",
   "pygments_lexer": "sparql-nb"
  },
  "title": "Data Model"
 },
 "nbformat": 4,
 "nbformat_minor": 4
}
