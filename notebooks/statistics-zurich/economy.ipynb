{
 "cells": [
  {
   "cell_type": "markdown",
   "id": "54b83229",
   "metadata": {},
   "source": [
    "<div class=\"notebook-buttons\" style=\"display:flex; padding-top: 5rem;padding-bottom: 2.5rem;line-height: 2.15;\">\n",
    "    <a href=\"https://colab.research.google.com/github/zazuko/notebooks/blob/master/notebooks/statistics-zurich/economy.ipynb\">\n",
    "        <div id=\"colab-link\" style=\"display: flex;padding-right: 3.5rem;padding-bottom: 0.625rem;border-bottom: 1px solid #ececed; align-items: center;\">\n",
    "            <img class=\"call-to-action-img\" src=\"img/colab.svg\" width=\"30\" height=\"30\" style=\"margin-right: 10px;margin-top: auto;margin-bottom: auto;\">\n",
    "            <div class=\"call-to-action-txt\">Run in Google Colab</div>\n",
    "        </div>\n",
    "    </a>\n",
    "    <a href=\"https://raw.githubusercontent.com/zazuko/notebooks/master/notebooks/statistics-zurich/economy.ipynb\" download>\n",
    "        <div id=\"download-link\" style=\"display: flex;padding-right: 3.5rem;padding-bottom: 0.625rem;border-bottom: 1px solid #ececed; height: auto;align-items: center;\">\n",
    "            <img class=\"call-to-action-img\" src=\"img/download.svg\" width=\"22\" height=\"30\" style=\"margin-right: 10px;margin-top: auto;margin-bottom: auto;\">\n",
    "            <div class=\"call-to-action-txt\">Download Notebook</div>\n",
    "        </div>\n",
    "    </a>\n",
    "    <a href=\"https://github.com/zazuko/notebooks/blob/master/notebooks/statistics-zurich/economy.ipynb\">\n",
    "        <div id=\"github-link\" style=\"display: flex;padding-right: 3.5rem;padding-bottom: 0.625rem;border-bottom: 1px solid #ececed; height: auto;align-items: center;\">\n",
    "            <img class=\"call-to-action-img\" src=\"img/github.svg\" width=\"25\" height=\"30\" style=\"margin-right: 10px;margin-top: auto;margin-bottom: auto;\">\n",
    "            <div class=\"call-to-action-txt\">View on GitHub</div>\n",
    "        </div>\n",
    "    </a>\n",
    "</div>\n",
    "\n",
    "# Economic activities in Zürich\n",
    "\n",
    "Zürich Statistical Office collects data on the city and its residents. This data is published as [Linked Data](https://en.wikipedia.org/wiki/Linked_data). \n",
    "\n",
    "In this tutorial, we will show **how to work with Linked Data.** Mainly, we will see how to work with data on economic activities.   \n",
    "We will look into how to query, process, and visualize it.   \n"
   ]
  },
  {
   "cell_type": "markdown",
   "id": "6591c25d",
   "metadata": {},
   "source": [
    "[1. Restaurants over time](#Restaurants-over-time)  \n",
    "[2. Restaurants in city quartiers](#Restaurants-in-city-quartiers)  \n",
    "[3. After-school care: gender-representation](#After-school-care:-gender-representation)"
   ]
  },
  {
   "cell_type": "markdown",
   "id": "eeda4a40",
   "metadata": {},
   "source": [
    "### SPARQL endpoint\n",
    "\n",
    "Data on some economic activities is published as Linked Data. It can be accessed with [SPARQL queries](https://www.w3.org/TR/rdf-sparql-query/).   \n",
    "You can send queries using HTTP requests. The API endpoint is **[https://ld.stadt-zuerich.ch/query/](https://ld.stadt-zuerich.ch/query/).**  \n",
    "  \n",
    "  \n",
    "Let's use `SparqlClient` from [graphly](https://github.com/zazuko/graphly) to communicate with the database. \n",
    "Graphly will allow us to:\n",
    "* send SPARQL queries\n",
    "* automatically add prefixes to all queries\n",
    "* format response to `pandas` or `geopandas`"
   ]
  },
  {
   "cell_type": "code",
   "execution_count": null,
   "id": "32169e90",
   "metadata": {},
   "outputs": [],
   "source": [
    "# Uncomment to install dependencies in Colab environment\n",
    "#!pip install mapclassify\n",
    "#!pip install git+https://github.com/zazuko/graphly.git"
   ]
  },
  {
   "cell_type": "code",
   "execution_count": null,
   "id": "f5defac7",
   "metadata": {},
   "outputs": [],
   "source": [
    "import mapclassify\n",
    "import matplotlib\n",
    "import matplotlib.cm\n",
    "\n",
    "import pandas as pd\n",
    "import plotly.express as px\n",
    "import plotly.graph_objects as go\n",
    "\n",
    "from graphly.api_client import SparqlClient"
   ]
  },
  {
   "cell_type": "code",
   "execution_count": null,
   "id": "83289653",
   "metadata": {},
   "outputs": [],
   "source": [
    "ENDPOINT = \"https://ld.stadt-zuerich.ch/query/\"\n",
    "\n",
    "sparql = SparqlClient(ENDPOINT)\n",
    "sparql.add_prefixes({\n",
    "    \"schema\": \"<http://schema.org/>\",\n",
    "    \"cube\": \"<https://cube.link/>\",\n",
    "    \"property\": \"<https://ld.stadt-zuerich.ch/statistics/property/>\",\n",
    "    \"measure\": \"<https://ld.stadt-zuerich.ch/statistics/measure/>\",\n",
    "    \"skos\": \"<http://www.w3.org/2004/02/skos/core#>\",\n",
    "    \"ssz\": \"<https://ld.stadt-zuerich.ch/statistics/>\"\n",
    "})"
   ]
  },
  {
   "cell_type": "markdown",
   "id": "b8dda947",
   "metadata": {},
   "source": [
    "SPARQL queries can become very long. To improve the readibility, we will work wih [prefixes](https://en.wikibooks.org/wiki/SPARQL/Prefixes).\n",
    " \n",
    "Using `add_prefixes` method, we can define persistent prefixes. \n",
    "Every time you send a query, `graphly` will now automatically add the prefixes for you."
   ]
  },
  {
   "cell_type": "markdown",
   "id": "dbbae7ca",
   "metadata": {},
   "source": [
    "## Restaurants over time\n",
    "\n",
    "Let's find the number of restaurants in Zurich over time. This information is available in the `AST-BTA` data cube. To give restaurant numbers a context, let's scale them by population size. The number of inhabitants over time can be found in the `BEW` data cube.\n",
    "\n",
    "The query for number of inhabitants and restaurants over time is as follows:\n",
    "\n"
   ]
  },
  {
   "cell_type": "code",
   "execution_count": null,
   "id": "74f15b42",
   "metadata": {},
   "outputs": [],
   "source": [
    "query = \"\"\"\n",
    "SELECT *\n",
    "FROM <https://lindas.admin.ch/stadtzuerich/stat>\n",
    "WHERE {\n",
    "    {\n",
    "    SELECT ?time (SUM(?ast) AS ?restaurants)\n",
    "    WHERE {\n",
    "      ssz:AST-BTA a cube:Cube;\n",
    "                    cube:observationSet/cube:observation ?obs_rest.   \n",
    "      ?obs_rest property:TIME ?time ;     \n",
    "           property:RAUM <https://ld.stadt-zuerich.ch/statistics/code/R30000> ;\n",
    "           property:BTA <https://ld.stadt-zuerich.ch/statistics/code/BTA5000> ;\n",
    "           measure:AST ?ast . \n",
    "    }\n",
    "     GROUP BY ?time ?place\n",
    "  }\n",
    "  {\n",
    "    SELECT ?time ?pop\n",
    "    WHERE {\n",
    "      ssz:BEW a cube:Cube;\n",
    "                    cube:observationSet/cube:observation ?obs_pop.   \n",
    "      ?obs_pop property:TIME ?time ;     \n",
    "           property:RAUM <https://ld.stadt-zuerich.ch/statistics/code/R30000>;\n",
    "           measure:BEW ?pop\n",
    "    }\n",
    "  }  \n",
    "}\n",
    "ORDER BY ?time\n",
    "\"\"\"\n",
    "\n",
    "df = sparql.send_query(query)\n",
    "df.head()"
   ]
  },
  {
   "cell_type": "markdown",
   "id": "48f8caeb",
   "metadata": {},
   "source": [
    "Let's calculate number of restaurants per 10 000 inhabitants"
   ]
  },
  {
   "cell_type": "code",
   "execution_count": null,
   "id": "5cf97433",
   "metadata": {},
   "outputs": [],
   "source": [
    "df = df.fillna(method=\"ffill\")\n",
    "df[\"Restaurants per 10 000 inhabitants\"] = df[\"restaurants\"]/df[\"pop\"]*10000"
   ]
  },
  {
   "cell_type": "code",
   "execution_count": null,
   "id": "81d0b1f4",
   "metadata": {},
   "outputs": [],
   "source": [
    "fig = px.line(df, x=\"time\", y = \"Restaurants per 10 000 inhabitants\", labels={\"time\": \"Years\"})\n",
    "fig.update_layout(title_text='Restaurants in Zürich over time', title_x=0.5)"
   ]
  },
  {
   "cell_type": "markdown",
   "id": "72f08dd5",
   "metadata": {},
   "source": [
    "## Restaurants in city quartiers \n",
    "\n",
    "Let's find the number of restaurants in different parts of the city. The data on restaurants is available in the `AST-BTA` data cube. To show the quartiers on a map, we will need their geographic coordinates. This data is available in `Wikidata`. We will get the number of restaurants per district from our endpoint, and the quartier centroid from `Wikidata`. \n",
    "\n",
    "Both information can be obtained using a SPARQL [federated query](https://www.w3.org/TR/sparql11-federated-query/). The endpoint for Wikidata is `<https://query.wikidata.org/sparql>`.\n",
    "\n",
    "The query for quartiers, its centroids, and number of restaurants is:"
   ]
  },
  {
   "cell_type": "code",
   "execution_count": null,
   "id": "b8fd0592",
   "metadata": {},
   "outputs": [],
   "source": [
    "query = \"\"\"\n",
    "PREFIX p: <http://www.wikidata.org/prop/>\n",
    "PREFIX ps: <http://www.wikidata.org/prop/statement/>\n",
    "\n",
    "SELECT ?place ?geometry (SUM(?ast) AS ?restaurants)\n",
    "WHERE {\n",
    "  \n",
    "  ssz:AST-BTA a cube:Cube;\n",
    "      cube:observationSet/cube:observation ?obs.   \n",
    "      \n",
    "  ?obs property:TIME ?time ;     \n",
    "       property:RAUM ?place_uri ;\n",
    "       property:BTA/schema:name ?bta ;\n",
    "                   measure:AST ?ast .\n",
    "\n",
    "  ?place_uri skos:inScheme <https://ld.stadt-zuerich.ch/statistics/scheme/Quartier> ;\n",
    "             schema:name ?place ;\n",
    "             schema:sameAs ?wikidata_id .\n",
    "  \n",
    "  FILTER (?time = \"2017-12-31\"^^xsd:date)\n",
    "  \n",
    "  BIND(IRI(?wikidata_id ) AS ?wikidata_iri ) .\n",
    "  \n",
    "  SERVICE <https://query.wikidata.org/sparql> {\n",
    "    ?wikidata_iri p:P625/ps:P625 ?geometry .\n",
    "  }\n",
    "  FILTER (?bta = \"Verpflegungsbetriebe\")\n",
    "  \n",
    "}\n",
    "GROUP BY ?place ?geometry ?time\n",
    "\"\"\"\n",
    "\n",
    "df = sparql.send_query(query)\n",
    "df.head()"
   ]
  },
  {
   "cell_type": "markdown",
   "id": "9cd59199",
   "metadata": {},
   "source": [
    "Let's classify the number of restaurants into 5 different buckets. We can use the `mapclassify` library to assign values in the `restaurant` column into one of five categories.\n"
   ]
  },
  {
   "cell_type": "code",
   "execution_count": null,
   "id": "9cd4b2a5",
   "metadata": {},
   "outputs": [],
   "source": [
    "N_CATEGORIES = 5\n",
    "df[\"text\"] = df.place + \"<br>Restaurants: \" + df.restaurants.astype(int).astype(str)\n",
    "classifier = mapclassify.NaturalBreaks(y=df[\"restaurants\"], k=N_CATEGORIES)\n",
    "df[\"rest_buckets\"] = df[[\"restaurants\"]].apply(classifier) "
   ]
  },
  {
   "cell_type": "markdown",
   "id": "0d23be77",
   "metadata": {},
   "source": [
    "Classified values can be easily visualized on the map."
   ]
  },
  {
   "cell_type": "code",
   "execution_count": null,
   "id": "b2876fd2",
   "metadata": {},
   "outputs": [],
   "source": [
    "norm = matplotlib.colors.Normalize(vmin=0, vmax=N_CATEGORIES)\n",
    "colormap = matplotlib.cm.ScalarMappable(norm=norm, cmap=matplotlib.cm.viridis)\n",
    "labels = mapclassify.classifiers._get_mpl_labels(classifier, fmt=\"{:.0f}\")\n",
    "\n",
    "fig = go.Figure()\n",
    "\n",
    "for bucket in range(N_CATEGORIES):\n",
    "\n",
    "    subset = df[df.rest_buckets == bucket]\n",
    "    fig.add_trace(go.Scattermapbox(\n",
    "        mode=\"markers\",\n",
    "        lat=subset.geometry.y,\n",
    "        lon=subset.geometry.x,\n",
    "        hovertext = subset.text,\n",
    "        hoverinfo = \"text\",\n",
    "        name=labels[bucket],\n",
    "        marker={'size': ((subset.restaurants)**1.5)*0.6, \"sizemode\": \"area\", \"sizemin\": 4, \"color\": \"rgba{}\".format(colormap.to_rgba(bucket+1))}, \n",
    "    ))\n",
    "\n",
    "fig.update_layout(\n",
    "    margin={'l': 0, 't': 50, 'b': 0, 'r': 0},\n",
    "    mapbox={\n",
    "        'center': {\"lat\": 47.3815, \"lon\": 8.532},\n",
    "        'style': \"carto-darkmatter\",\n",
    "        'zoom': 11},\n",
    "    showlegend=True,\n",
    "    legend_title=\"Restaurants count\",\n",
    "    title_text='Restaurants in Zürich Quartiers', \n",
    "    title_x=0.5\n",
    ")\n",
    "\n",
    "fig.show(\"notebook\")"
   ]
  },
  {
   "cell_type": "markdown",
   "id": "0b101b6e",
   "metadata": {},
   "source": [
    "## After-school care: gender-representation\n",
    "\n",
    "Let's take a look at gender representation in the public sector. In the `BES-BTA-SEX` data cube we can find information on the number of employees in different organizations. The data is reported separately for each sex, and various establishment types. Let's find the number of male and female employees in after-school care (*Hort*). \n",
    "\n",
    "The query for the number of female and male employees in after-school care over time looks as follows:\n"
   ]
  },
  {
   "cell_type": "code",
   "execution_count": null,
   "id": "5774ce60",
   "metadata": {},
   "outputs": [],
   "source": [
    "query = \"\"\"\n",
    "SELECT ?time ?employees ?sex\n",
    "FROM <https://lindas.admin.ch/stadtzuerich/stat>\n",
    "WHERE {\n",
    "    ssz:BES-BTA-SEX a cube:Cube;\n",
    "                cube:observationSet/cube:observation ?obs.   \n",
    "    ?obs property:TIME ?time ;     \n",
    "        property:RAUM/skos:inScheme <https://ld.stadt-zuerich.ch/statistics/scheme/Gemeinde> ;\n",
    "        property:BTA/schema:name \"Horte\" ;\n",
    "        property:SEX/schema:name ?sex ;\n",
    "        measure:BES ?employees .\n",
    "}\n",
    "ORDER BY ?time\n",
    "\"\"\"\n",
    "df = sparql.send_query(query)\n",
    "df.head()"
   ]
  },
  {
   "cell_type": "markdown",
   "id": "296c86ec",
   "metadata": {},
   "source": [
    "Let's rearrange and rename the columns:"
   ]
  },
  {
   "cell_type": "code",
   "execution_count": null,
   "id": "242d5dc7",
   "metadata": {},
   "outputs": [],
   "source": [
    "df = pd.pivot_table(df, index=\"time\", columns=\"sex\", values=\"employees\")\n",
    "df = df.reset_index().rename_axis(None, axis=1)\n",
    "df = df.rename(columns={\"männlich\": \"male\", \"weiblich\": \"female\"})"
   ]
  },
  {
   "cell_type": "code",
   "execution_count": null,
   "id": "6d3fcf12",
   "metadata": {},
   "outputs": [],
   "source": [
    "fig = px.histogram(df, x=\"time\", y=df.columns, barnorm=\"percent\", labels={'x':'total_bill', 'y':'count'})\n",
    "fig.update_layout(\n",
    "    title='After-school care: gender representation', \n",
    "    title_x=0.5,\n",
    "    yaxis_title=\"Employees in %\",\n",
    "    xaxis_title=\"Years\"\n",
    ")\n",
    "fig['layout']['yaxis']['range'] = [0,100]\n",
    "fig.show(\"notebook\")"
   ]
  }
 ],
 "metadata": {
  "kernelspec": {
   "display_name": "zazuko",
   "language": "python",
   "name": "zazuko"
  },
  "language_info": {
   "codemirror_mode": {
    "name": "ipython",
    "version": 3
   },
   "file_extension": ".py",
   "mimetype": "text/x-python",
   "name": "python",
   "nbconvert_exporter": "python",
   "pygments_lexer": "ipython3",
   "version": "3.9.0"
  },
  "title": "Economy"
 },
 "nbformat": 4,
 "nbformat_minor": 5
}
