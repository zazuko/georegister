{
 "cells": [
  {
   "cell_type": "code",
   "execution_count": null,
   "id": "be3f0ad4",
   "metadata": {},
   "outputs": [],
   "source": [
    "import folium\n",
    "import mapclassify\n",
    "import matplotlib.pyplot as plt\n",
    "import matplotlib.colors as mcolors\n",
    "\n",
    "from graphly.api_client import SparqlClient"
   ]
  },
  {
   "cell_type": "code",
   "execution_count": null,
   "id": "9ef8eab6",
   "metadata": {},
   "outputs": [],
   "source": [
    "sparql = SparqlClient(\"https://geo.ld.admin.ch/query\")"
   ]
  },
  {
   "cell_type": "code",
   "execution_count": null,
   "id": "a8f717f3",
   "metadata": {},
   "outputs": [],
   "source": [
    "# https://s.zazuko.com/bFtMiF\n",
    "query = \"\"\"\n",
    "PREFIX schema: <http://schema.org/>\n",
    "PREFIX admin: <https://schema.ld.admin.ch/>\n",
    "PREFIX locn: <http://www.w3.org/ns/locn#>\n",
    "\n",
    "SELECT ?thoroughfare ?geom (COUNT(?sub) AS ?companies)\n",
    "WHERE {\n",
    "      \n",
    "    GRAPH <urn:bgdi:boundaries:municipalities> {\n",
    "        ?muni_swisstopo schema:about <https://ld.admin.ch/municipality/1711>.\n",
    "    }\n",
    "      \n",
    "    GRAPH <urn:bgdi:location:streets> {\n",
    "        ?street_id a <http://www.opengis.net/ont/geosparql#Feature>;\n",
    "           schema:name ?thoroughfare;\n",
    "           schema:containedInPlace ?muni_swisstopo;\n",
    "           <http://www.opengis.net/ont/geosparql#hasGeometry>/<http://www.opengis.net/ont/geosparql#asWKT> ?geom.\n",
    "    }\n",
    "  \n",
    "  \tOPTIONAL {\n",
    "    SERVICE <https://lindas.admin.ch/query> {\n",
    "      GRAPH <https://lindas.admin.ch/foj/zefix> {\n",
    "      ?sub a admin:ZefixOrganisation;\n",
    "        schema:address/locn:thoroughfare ?thoroughfare;\n",
    "        admin:municipality <https://ld.admin.ch/municipality/1711>.\n",
    "      }\n",
    "    }\n",
    "  }\n",
    "   \n",
    "}\n",
    "GROUP BY ?thoroughfare ?geom\n",
    "ORDER BY ?companies\n",
    "\"\"\"\n",
    "df = sparql.send_query(query)\n",
    "df = df.set_crs(epsg=4326)"
   ]
  },
  {
   "cell_type": "code",
   "execution_count": null,
   "id": "ec735c17",
   "metadata": {},
   "outputs": [],
   "source": [
    "N = 6\n",
    "classifier = mapclassify.NaturalBreaks(y=df.companies, k=N)\n",
    "df[\"bucket\"] = df[[\"companies\"]].apply(classifier)\n",
    "labels = mapclassify.classifiers._get_mpl_labels(classifier, fmt=\"{:.0f}\")\n",
    "labels[0] = labels[0].replace(\"0,\", \"1,\")\n",
    "\n",
    "cmap = plt.get_cmap('inferno')\n",
    "def style_function(feature):\n",
    "    bucket = df[\"bucket\"].get(int(feature[\"id\"][-5:]), None)\n",
    "    if bucket == 0 and df[\"companies\"].get(int(feature[\"id\"][-5:]), None) == 0:\n",
    "        bucket = None\n",
    "    return {\n",
    "        \"fillOpacity\": 0.6,\n",
    "        \"weight\": 3,\n",
    "        \"opacity\": 1,\n",
    "        \"fillColor\": \"#303030\" if bucket is None else mcolors.rgb2hex(cmap((bucket+1)/N)),\n",
    "        \"color\": \"#303030\" if bucket is None else mcolors.rgb2hex(cmap((bucket+1)/N)),\n",
    "    }\n",
    "\n",
    "\n",
    "highlight_function = lambda x: {'fillColor': '#989898', \n",
    "                                'color':'#989898', \n",
    "                                'fillOpacity': 0.8}"
   ]
  },
  {
   "cell_type": "code",
   "execution_count": null,
   "id": "82a188c0",
   "metadata": {},
   "outputs": [],
   "source": [
    "m = folium.Map(location=[47.15, 8.52], zoom_start=13, tiles=\"CartoDBdark_matter\")\n",
    "\n",
    "for bucket, label in enumerate(labels):\n",
    "\n",
    "    feature_group = folium.FeatureGroup(name=label).add_to(m)\n",
    "    folium.features.GeoJson(\n",
    "        df[df.bucket == bucket],\n",
    "        style_function=style_function, \n",
    "        control=False,\n",
    "        highlight_function=highlight_function,\n",
    "        tooltip=folium.features.GeoJsonTooltip(\n",
    "            fields=['thoroughfare', \"companies\"],\n",
    "            aliases=['Street: ', \"Registered companies: \"],\n",
    "            style=(\"background-color: white; color: #333333; font-family: arial; font-size: 12px; padding: 10px;\") \n",
    "        )\n",
    "    ).add_to(feature_group)\n",
    "\n",
    "\n",
    "    # m.keep_in_front(hover)\n",
    "\n",
    "folium.LayerControl(name=\"bla\").add_to(m)\n",
    "title_html = '''<h3 align=\"center\" style=\"font-size:16px\"><b>{}</b></h3>'''.format(\"Registration Address for Companies\")   \n",
    "m.get_root().html.add_child(folium.Element(title_html))\n",
    "\n",
    "m.save(\"registered_companies.html\")\n",
    "m"
   ]
  }
 ],
 "metadata": {
  "kernelspec": {
   "display_name": "Python 3.9.0 ('venv': venv)",
   "language": "python",
   "name": "python3"
  },
  "language_info": {
   "codemirror_mode": {
    "name": "ipython",
    "version": 3
   },
   "file_extension": ".py",
   "mimetype": "text/x-python",
   "name": "python",
   "nbconvert_exporter": "python",
   "pygments_lexer": "ipython3",
   "version": "3.9.0"
  },
  "vscode": {
   "interpreter": {
    "hash": "52612798f5eced5fbe3f58e9481faf8401bf1ada0bff399e6095e3d5ee493763"
   }
  }
 },
 "nbformat": 4,
 "nbformat_minor": 5
}
